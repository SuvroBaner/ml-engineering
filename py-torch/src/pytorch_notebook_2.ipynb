{
  "nbformat": 4,
  "nbformat_minor": 0,
  "metadata": {
    "colab": {
      "provenance": []
    },
    "kernelspec": {
      "name": "python3",
      "display_name": "Python 3"
    },
    "language_info": {
      "name": "python"
    }
  },
  "cells": [
    {
      "cell_type": "markdown",
      "source": [
        "### Pytorch Tensors\n",
        "\n",
        "It is the central data abstraction in PyTorch"
      ],
      "metadata": {
        "id": "HdbAEqx1nTj1"
      }
    },
    {
      "cell_type": "code",
      "execution_count": 1,
      "metadata": {
        "id": "14WOlTcVm5-G"
      },
      "outputs": [],
      "source": [
        "import torch\n",
        "import math"
      ]
    },
    {
      "cell_type": "code",
      "source": [
        "x = torch.empty(3, 4)\n",
        "print(type(x))\n",
        "print(x)"
      ],
      "metadata": {
        "colab": {
          "base_uri": "https://localhost:8080/"
        },
        "id": "IkttOFnfnoRc",
        "outputId": "e86f59a9-aa91-4c36-d504-f341b03bc016"
      },
      "execution_count": 2,
      "outputs": [
        {
          "output_type": "stream",
          "name": "stdout",
          "text": [
            "<class 'torch.Tensor'>\n",
            "tensor([[9.3878e-35, 0.0000e+00, 3.3631e-44, 0.0000e+00],\n",
            "        [       nan, 0.0000e+00, 1.1578e+27, 1.1362e+30],\n",
            "        [7.1547e+22, 4.5828e+30, 1.2121e+04, 7.1846e+22]])\n"
          ]
        }
      ]
    },
    {
      "cell_type": "code",
      "source": [
        "# Other factory methods -\n",
        "zeros = torch.zeros(2, 3)\n",
        "print(zeros)"
      ],
      "metadata": {
        "colab": {
          "base_uri": "https://localhost:8080/"
        },
        "id": "87is-FYbn4zV",
        "outputId": "f6dc4436-c3f8-42c9-a154-7564e8840b15"
      },
      "execution_count": 3,
      "outputs": [
        {
          "output_type": "stream",
          "name": "stdout",
          "text": [
            "tensor([[0., 0., 0.],\n",
            "        [0., 0., 0.]])\n"
          ]
        }
      ]
    },
    {
      "cell_type": "code",
      "source": [
        "ones = torch.ones(2, 3)\n",
        "print(ones)"
      ],
      "metadata": {
        "colab": {
          "base_uri": "https://localhost:8080/"
        },
        "id": "JBAz0rK6puWX",
        "outputId": "b1067ee3-c51e-4c55-e871-3b87a8b989aa"
      },
      "execution_count": 4,
      "outputs": [
        {
          "output_type": "stream",
          "name": "stdout",
          "text": [
            "tensor([[1., 1., 1.],\n",
            "        [1., 1., 1.]])\n"
          ]
        }
      ]
    },
    {
      "cell_type": "code",
      "source": [
        "torch.manual_seed(1729)\n",
        "random = torch.rand(2, 3)\n",
        "print(random)"
      ],
      "metadata": {
        "colab": {
          "base_uri": "https://localhost:8080/"
        },
        "id": "mJOj2Ur9pzUl",
        "outputId": "85781dac-7449-4dad-c997-fe3a2167034a"
      },
      "execution_count": 5,
      "outputs": [
        {
          "output_type": "stream",
          "name": "stdout",
          "text": [
            "tensor([[0.3126, 0.3791, 0.3087],\n",
            "        [0.0736, 0.4216, 0.0691]])\n"
          ]
        }
      ]
    },
    {
      "cell_type": "code",
      "source": [
        "x = torch.empty(2, 2, 3)\n",
        "print(x.shape)\n",
        "print(x)"
      ],
      "metadata": {
        "colab": {
          "base_uri": "https://localhost:8080/"
        },
        "id": "GIzymFBqp_Tm",
        "outputId": "6067d738-3fa5-4e04-f775-25c3041165dd"
      },
      "execution_count": 6,
      "outputs": [
        {
          "output_type": "stream",
          "name": "stdout",
          "text": [
            "torch.Size([2, 2, 3])\n",
            "tensor([[[9.3880e-35, 0.0000e+00, 3.0867e-01],\n",
            "         [7.3580e-02, 4.2160e-01, 6.9054e-02]],\n",
            "\n",
            "        [[9.4613e-35, 0.0000e+00, 9.4614e-35],\n",
            "         [0.0000e+00, 9.4615e-35, 0.0000e+00]]])\n"
          ]
        }
      ]
    },
    {
      "cell_type": "code",
      "source": [
        "empty_like_x = torch.empty_like(x)\n",
        "print(empty_like_x.shape)\n",
        "print(empty_like_x)"
      ],
      "metadata": {
        "colab": {
          "base_uri": "https://localhost:8080/"
        },
        "id": "wwHUWBcoqsMF",
        "outputId": "64723bf1-1692-47d6-e50b-f02591ffd2b4"
      },
      "execution_count": 7,
      "outputs": [
        {
          "output_type": "stream",
          "name": "stdout",
          "text": [
            "torch.Size([2, 2, 3])\n",
            "tensor([[[9.3882e-35, 0.0000e+00, 3.3631e-44],\n",
            "         [0.0000e+00,        nan, 6.9054e-02]],\n",
            "\n",
            "        [[1.1578e+27, 1.1362e+30, 7.1547e+22],\n",
            "         [4.5828e+30, 1.2121e+04, 7.1846e+22]]])\n"
          ]
        }
      ]
    },
    {
      "cell_type": "code",
      "source": [
        "zeros_like_x = torch.empty_like(x)\n",
        "print(zeros_like_x)\n",
        "print(zeros_like_x.shape)"
      ],
      "metadata": {
        "colab": {
          "base_uri": "https://localhost:8080/"
        },
        "id": "WQcIh3UNrVId",
        "outputId": "5b41d7da-7f30-46ea-f521-7bf7255f36d4"
      },
      "execution_count": 8,
      "outputs": [
        {
          "output_type": "stream",
          "name": "stdout",
          "text": [
            "tensor([[[9.3882e-35, 0.0000e+00, 2.3694e-38],\n",
            "         [1.6543e+00, 0.0000e+00, 1.3972e+00]],\n",
            "\n",
            "        [[2.0000e+00, 1.7108e+00, 0.0000e+00],\n",
            "         [1.3881e+00, 0.0000e+00, 1.0654e-04]]])\n",
            "torch.Size([2, 2, 3])\n"
          ]
        }
      ]
    },
    {
      "cell_type": "code",
      "source": [
        "ones_like_x = torch.ones_like(x)\n",
        "print(ones_like_x)\n",
        "print(ones_like_x.shape)"
      ],
      "metadata": {
        "colab": {
          "base_uri": "https://localhost:8080/"
        },
        "id": "xIzSSOEZr51N",
        "outputId": "32f1297d-e25d-45e5-94ea-af637ee2d118"
      },
      "execution_count": 9,
      "outputs": [
        {
          "output_type": "stream",
          "name": "stdout",
          "text": [
            "tensor([[[1., 1., 1.],\n",
            "         [1., 1., 1.]],\n",
            "\n",
            "        [[1., 1., 1.],\n",
            "         [1., 1., 1.]]])\n",
            "torch.Size([2, 2, 3])\n"
          ]
        }
      ]
    },
    {
      "cell_type": "code",
      "source": [
        "rand_like_x = torch.rand_like(x)\n",
        "print(rand_like_x.shape)\n",
        "print(rand_like_x)"
      ],
      "metadata": {
        "colab": {
          "base_uri": "https://localhost:8080/"
        },
        "id": "INHO_4cnsFOd",
        "outputId": "475ac5d3-c8dc-4d30-cb8e-52cc84d65678"
      },
      "execution_count": 10,
      "outputs": [
        {
          "output_type": "stream",
          "name": "stdout",
          "text": [
            "torch.Size([2, 2, 3])\n",
            "tensor([[[0.2332, 0.4047, 0.2162],\n",
            "         [0.9927, 0.4128, 0.5938]],\n",
            "\n",
            "        [[0.6128, 0.1519, 0.0453],\n",
            "         [0.5035, 0.9978, 0.3884]]])\n"
          ]
        }
      ]
    },
    {
      "cell_type": "code",
      "source": [
        "some_constants = torch.tensor([[3.1415926, 2.71828], [1.61803, 0.0072897]])\n",
        "print(some_constants)"
      ],
      "metadata": {
        "colab": {
          "base_uri": "https://localhost:8080/"
        },
        "id": "eRSdKGBvsQL1",
        "outputId": "6dfa2326-02e6-4214-ab7e-1392d683352e"
      },
      "execution_count": 11,
      "outputs": [
        {
          "output_type": "stream",
          "name": "stdout",
          "text": [
            "tensor([[3.1416, 2.7183],\n",
            "        [1.6180, 0.0073]])\n"
          ]
        }
      ]
    },
    {
      "cell_type": "code",
      "source": [
        "some_integers = torch.tensor((2, 3, 5, 7, 9, 11, 13, 15))\n",
        "print(some_integers)"
      ],
      "metadata": {
        "colab": {
          "base_uri": "https://localhost:8080/"
        },
        "id": "IYKVFiW_syBu",
        "outputId": "19fd33c9-3cd8-4c8b-acb6-0fac8e03a16a"
      },
      "execution_count": 12,
      "outputs": [
        {
          "output_type": "stream",
          "name": "stdout",
          "text": [
            "tensor([ 2,  3,  5,  7,  9, 11, 13, 15])\n"
          ]
        }
      ]
    },
    {
      "cell_type": "code",
      "source": [
        "more_integers = torch.tensor(((2, 4, 6), (3, 6, 9)))\n",
        "print(more_integers)"
      ],
      "metadata": {
        "colab": {
          "base_uri": "https://localhost:8080/"
        },
        "id": "q9IBwepQtF-9",
        "outputId": "170ffa73-cc26-4b8b-9431-febc846bc6bc"
      },
      "execution_count": 13,
      "outputs": [
        {
          "output_type": "stream",
          "name": "stdout",
          "text": [
            "tensor([[2, 4, 6],\n",
            "        [3, 6, 9]])\n"
          ]
        }
      ]
    },
    {
      "cell_type": "code",
      "source": [
        "few_more_integers = torch.tensor(((2, 4, 6), [3, 6, 9])) # this is interesting\n",
        "print(few_more_integers)"
      ],
      "metadata": {
        "colab": {
          "base_uri": "https://localhost:8080/"
        },
        "id": "lx25qWZntW39",
        "outputId": "eee3f7cb-22f2-40d4-c67a-9760ad4d5d7a"
      },
      "execution_count": 14,
      "outputs": [
        {
          "output_type": "stream",
          "name": "stdout",
          "text": [
            "tensor([[2, 4, 6],\n",
            "        [3, 6, 9]])\n"
          ]
        }
      ]
    },
    {
      "cell_type": "markdown",
      "source": [
        "Tensor Data Types"
      ],
      "metadata": {
        "id": "1R9_FLcswAXR"
      }
    },
    {
      "cell_type": "code",
      "source": [
        "a = torch.ones((2, 3), dtype = torch.int16)\n",
        "print(a)"
      ],
      "metadata": {
        "colab": {
          "base_uri": "https://localhost:8080/"
        },
        "id": "5z1ynUeKtlC1",
        "outputId": "5d882bd3-d2e5-4017-f288-b0024a6aebd7"
      },
      "execution_count": 15,
      "outputs": [
        {
          "output_type": "stream",
          "name": "stdout",
          "text": [
            "tensor([[1, 1, 1],\n",
            "        [1, 1, 1]], dtype=torch.int16)\n"
          ]
        }
      ]
    },
    {
      "cell_type": "code",
      "source": [
        "b = torch.rand((2, 3), dtype = torch.float64) * 20.\n",
        "print(b)"
      ],
      "metadata": {
        "colab": {
          "base_uri": "https://localhost:8080/"
        },
        "id": "W79nkr1XwNf2",
        "outputId": "9e10f3be-cb47-4e83-c70f-ec07b893bbaa"
      },
      "execution_count": 16,
      "outputs": [
        {
          "output_type": "stream",
          "name": "stdout",
          "text": [
            "tensor([[10.8626,  2.1505, 19.6913],\n",
            "        [ 0.9956,  1.4148,  5.8364]], dtype=torch.float64)\n"
          ]
        }
      ]
    },
    {
      "cell_type": "code",
      "source": [
        "c = b.to(torch.int32)\n",
        "print(c)"
      ],
      "metadata": {
        "colab": {
          "base_uri": "https://localhost:8080/"
        },
        "id": "vFxpg8eCwYld",
        "outputId": "b286d943-ab77-45b7-fbc7-ea67fdbfcdd5"
      },
      "execution_count": 17,
      "outputs": [
        {
          "output_type": "stream",
          "name": "stdout",
          "text": [
            "tensor([[10,  2, 19],\n",
            "        [ 0,  1,  5]], dtype=torch.int32)\n"
          ]
        }
      ]
    },
    {
      "cell_type": "markdown",
      "source": [
        "Math and Logic with PyTorch Tensors"
      ],
      "metadata": {
        "id": "zy8KTUhCw_DO"
      }
    },
    {
      "cell_type": "code",
      "source": [
        "ones = torch.zeros(2, 2) + 1\n",
        "twos = torch.ones(2, 2) * 2\n",
        "threes = (torch.ones(2, 2) * 7 - 1) / 2\n",
        "fours = twos ** 2\n",
        "sqrt2s = twos ** 0.5"
      ],
      "metadata": {
        "id": "jCH3wRGmwoOU"
      },
      "execution_count": 18,
      "outputs": []
    },
    {
      "cell_type": "code",
      "source": [
        "print(ones)\n",
        "print(twos)\n",
        "print(threes)\n",
        "print(fours)\n",
        "print(sqrt2s)"
      ],
      "metadata": {
        "colab": {
          "base_uri": "https://localhost:8080/"
        },
        "id": "b2CYfA_SxsOu",
        "outputId": "0a1ee9d1-fdb4-4d17-8ab3-fca81f035edf"
      },
      "execution_count": 19,
      "outputs": [
        {
          "output_type": "stream",
          "name": "stdout",
          "text": [
            "tensor([[1., 1.],\n",
            "        [1., 1.]])\n",
            "tensor([[2., 2.],\n",
            "        [2., 2.]])\n",
            "tensor([[3., 3.],\n",
            "        [3., 3.]])\n",
            "tensor([[4., 4.],\n",
            "        [4., 4.]])\n",
            "tensor([[1.4142, 1.4142],\n",
            "        [1.4142, 1.4142]])\n"
          ]
        }
      ]
    },
    {
      "cell_type": "code",
      "source": [
        "powers2 = twos ** torch.tensor([[1, 2], [3, 4]])\n",
        "\n",
        "fives = ones + fours\n",
        "\n",
        "dozens = threes * fours"
      ],
      "metadata": {
        "id": "Fzti837Dx1bU"
      },
      "execution_count": 20,
      "outputs": []
    },
    {
      "cell_type": "code",
      "source": [
        "print(powers2)"
      ],
      "metadata": {
        "colab": {
          "base_uri": "https://localhost:8080/"
        },
        "id": "0lF1j48tzDU-",
        "outputId": "25877faa-366c-476c-93db-c8c2e59858bf"
      },
      "execution_count": 21,
      "outputs": [
        {
          "output_type": "stream",
          "name": "stdout",
          "text": [
            "tensor([[ 2.,  4.],\n",
            "        [ 8., 16.]])\n"
          ]
        }
      ]
    },
    {
      "cell_type": "code",
      "source": [
        "print(fives)"
      ],
      "metadata": {
        "colab": {
          "base_uri": "https://localhost:8080/"
        },
        "id": "hBlOODhhzF4M",
        "outputId": "72df927a-53db-4bc9-ed83-89943af3c75d"
      },
      "execution_count": 22,
      "outputs": [
        {
          "output_type": "stream",
          "name": "stdout",
          "text": [
            "tensor([[5., 5.],\n",
            "        [5., 5.]])\n"
          ]
        }
      ]
    },
    {
      "cell_type": "code",
      "source": [
        "print(dozens)"
      ],
      "metadata": {
        "colab": {
          "base_uri": "https://localhost:8080/"
        },
        "id": "d1JSMTSizMIc",
        "outputId": "7c14ea88-a653-48f2-85ea-61e89d97bb76"
      },
      "execution_count": 23,
      "outputs": [
        {
          "output_type": "stream",
          "name": "stdout",
          "text": [
            "tensor([[12., 12.],\n",
            "        [12., 12.]])\n"
          ]
        }
      ]
    },
    {
      "cell_type": "markdown",
      "source": [
        "Tensor Broadcasting\n",
        "\n",
        "* Dimensions must match last to first\n",
        "* One of the dimensions should match\n",
        "* Can't broadcast with empty tensors"
      ],
      "metadata": {
        "id": "-ULqehrR1G1r"
      }
    },
    {
      "cell_type": "code",
      "source": [
        "rand = torch.rand(2, 4)\n",
        "print(rand)"
      ],
      "metadata": {
        "colab": {
          "base_uri": "https://localhost:8080/"
        },
        "id": "iRJGmTVTzUnE",
        "outputId": "b799653f-bedb-4358-e6f3-74c93e8516ae"
      },
      "execution_count": 24,
      "outputs": [
        {
          "output_type": "stream",
          "name": "stdout",
          "text": [
            "tensor([[0.0703, 0.5105, 0.9451, 0.2359],\n",
            "        [0.1979, 0.3327, 0.6146, 0.5999]])\n"
          ]
        }
      ]
    },
    {
      "cell_type": "code",
      "source": [
        "new_twos = torch.ones(1, 4) * 2\n",
        "print(new_twos)"
      ],
      "metadata": {
        "colab": {
          "base_uri": "https://localhost:8080/"
        },
        "id": "NIfXfDpB1PnF",
        "outputId": "78ec861e-15b7-4109-a814-1227021cd936"
      },
      "execution_count": 25,
      "outputs": [
        {
          "output_type": "stream",
          "name": "stdout",
          "text": [
            "tensor([[2., 2., 2., 2.]])\n"
          ]
        }
      ]
    },
    {
      "cell_type": "code",
      "source": [
        "doubled = rand * new_twos\n",
        "print(doubled)"
      ],
      "metadata": {
        "colab": {
          "base_uri": "https://localhost:8080/"
        },
        "id": "nfm_MLKO2O8D",
        "outputId": "65d39a7c-f792-4ef3-f49b-01bfc1bb421b"
      },
      "execution_count": 26,
      "outputs": [
        {
          "output_type": "stream",
          "name": "stdout",
          "text": [
            "tensor([[0.1405, 1.0210, 1.8901, 0.4717],\n",
            "        [0.3959, 0.6655, 1.2291, 1.1998]])\n"
          ]
        }
      ]
    },
    {
      "cell_type": "code",
      "source": [
        "a = torch.ones(4, 3, 2)\n",
        "print(a)"
      ],
      "metadata": {
        "colab": {
          "base_uri": "https://localhost:8080/"
        },
        "id": "chIradWj2meT",
        "outputId": "614f14a0-6fa1-431f-ab6a-2c64a5256c96"
      },
      "execution_count": 27,
      "outputs": [
        {
          "output_type": "stream",
          "name": "stdout",
          "text": [
            "tensor([[[1., 1.],\n",
            "         [1., 1.],\n",
            "         [1., 1.]],\n",
            "\n",
            "        [[1., 1.],\n",
            "         [1., 1.],\n",
            "         [1., 1.]],\n",
            "\n",
            "        [[1., 1.],\n",
            "         [1., 1.],\n",
            "         [1., 1.]],\n",
            "\n",
            "        [[1., 1.],\n",
            "         [1., 1.],\n",
            "         [1., 1.]]])\n"
          ]
        }
      ]
    },
    {
      "cell_type": "code",
      "source": [
        "b = a * torch.rand(3, 2) # dim 1 is absent, 3rd and 2nd dims are identical\n",
        "print(b)"
      ],
      "metadata": {
        "colab": {
          "base_uri": "https://localhost:8080/"
        },
        "id": "400elx7f32vb",
        "outputId": "46c6eccf-dfdc-4bf0-d732-2f23b5961279"
      },
      "execution_count": 28,
      "outputs": [
        {
          "output_type": "stream",
          "name": "stdout",
          "text": [
            "tensor([[[0.5013, 0.9397],\n",
            "         [0.8656, 0.5207],\n",
            "         [0.6865, 0.3614]],\n",
            "\n",
            "        [[0.5013, 0.9397],\n",
            "         [0.8656, 0.5207],\n",
            "         [0.6865, 0.3614]],\n",
            "\n",
            "        [[0.5013, 0.9397],\n",
            "         [0.8656, 0.5207],\n",
            "         [0.6865, 0.3614]],\n",
            "\n",
            "        [[0.5013, 0.9397],\n",
            "         [0.8656, 0.5207],\n",
            "         [0.6865, 0.3614]]])\n"
          ]
        }
      ]
    },
    {
      "cell_type": "code",
      "source": [
        "c = a * torch.rand(3, 1) # dim 1 is absent, 2nd dim is identical and 3rd dim is different\n",
        "print(c)"
      ],
      "metadata": {
        "colab": {
          "base_uri": "https://localhost:8080/"
        },
        "id": "krOoSifD4Ghb",
        "outputId": "eb691547-afb3-4e84-d615-bbdb999b9789"
      },
      "execution_count": 29,
      "outputs": [
        {
          "output_type": "stream",
          "name": "stdout",
          "text": [
            "tensor([[[0.6493, 0.6493],\n",
            "         [0.2633, 0.2633],\n",
            "         [0.4762, 0.4762]],\n",
            "\n",
            "        [[0.6493, 0.6493],\n",
            "         [0.2633, 0.2633],\n",
            "         [0.4762, 0.4762]],\n",
            "\n",
            "        [[0.6493, 0.6493],\n",
            "         [0.2633, 0.2633],\n",
            "         [0.4762, 0.4762]],\n",
            "\n",
            "        [[0.6493, 0.6493],\n",
            "         [0.2633, 0.2633],\n",
            "         [0.4762, 0.4762]]])\n"
          ]
        }
      ]
    },
    {
      "cell_type": "code",
      "source": [
        "d = a * torch.rand(1, 2) # dim 1 is absent, 2nd dimension is different and 3rd dim is identical\n",
        "print(d)"
      ],
      "metadata": {
        "colab": {
          "base_uri": "https://localhost:8080/"
        },
        "id": "8o4oyxbW4gSu",
        "outputId": "1f793cc6-5df4-4543-eab9-27c5183b7e31"
      },
      "execution_count": 30,
      "outputs": [
        {
          "output_type": "stream",
          "name": "stdout",
          "text": [
            "tensor([[[0.0548, 0.2024],\n",
            "         [0.0548, 0.2024],\n",
            "         [0.0548, 0.2024]],\n",
            "\n",
            "        [[0.0548, 0.2024],\n",
            "         [0.0548, 0.2024],\n",
            "         [0.0548, 0.2024]],\n",
            "\n",
            "        [[0.0548, 0.2024],\n",
            "         [0.0548, 0.2024],\n",
            "         [0.0548, 0.2024]],\n",
            "\n",
            "        [[0.0548, 0.2024],\n",
            "         [0.0548, 0.2024],\n",
            "         [0.0548, 0.2024]]])\n"
          ]
        }
      ]
    },
    {
      "cell_type": "markdown",
      "source": [
        "Math Operations"
      ],
      "metadata": {
        "id": "lclYE2lX7CNS"
      }
    },
    {
      "cell_type": "code",
      "source": [
        "# common fucntions -\n",
        "a = torch.rand(2, 4) * 2 - 1\n",
        "print(a)\n",
        "print(torch.abs(a))\n",
        "print(torch.ceil(a))\n",
        "print(torch.floor(a))\n",
        "print(torch.clamp(a, -0.5, 0.5)) # Clamps all elements in input into the range [ min, max ]."
      ],
      "metadata": {
        "colab": {
          "base_uri": "https://localhost:8080/"
        },
        "id": "0HwTTRJ35sRV",
        "outputId": "aca7fcfd-b014-4ed0-b78e-2d9e5f020392"
      },
      "execution_count": 31,
      "outputs": [
        {
          "output_type": "stream",
          "name": "stdout",
          "text": [
            "tensor([[ 0.1461,  0.4382, -0.1866,  0.4602],\n",
            "        [ 0.2551,  0.4715, -0.9238, -0.5724]])\n",
            "tensor([[0.1461, 0.4382, 0.1866, 0.4602],\n",
            "        [0.2551, 0.4715, 0.9238, 0.5724]])\n",
            "tensor([[1., 1., -0., 1.],\n",
            "        [1., 1., -0., -0.]])\n",
            "tensor([[ 0.,  0., -1.,  0.],\n",
            "        [ 0.,  0., -1., -1.]])\n",
            "tensor([[ 0.1461,  0.4382, -0.1866,  0.4602],\n",
            "        [ 0.2551,  0.4715, -0.5000, -0.5000]])\n"
          ]
        }
      ]
    },
    {
      "cell_type": "code",
      "source": [
        "# Trigonometric functions\n",
        "angles = torch.tensor([0, math.pi / 4, math.pi / 2, 3 * math.pi / 4])\n",
        "sines = torch.sin(angles)\n",
        "inverses = torch.asin(sines)\n",
        "print('\\n Sine and arcsine: ')\n",
        "print(angles)\n",
        "print(sines)\n",
        "print(inverses)"
      ],
      "metadata": {
        "colab": {
          "base_uri": "https://localhost:8080/"
        },
        "id": "jAqJStxk8aNH",
        "outputId": "6b13a6f9-91a7-46ad-9e17-2002f7ade41f"
      },
      "execution_count": 32,
      "outputs": [
        {
          "output_type": "stream",
          "name": "stdout",
          "text": [
            "\n",
            " Sine and arcsine: \n",
            "tensor([0.0000, 0.7854, 1.5708, 2.3562])\n",
            "tensor([0.0000, 0.7071, 1.0000, 0.7071])\n",
            "tensor([0.0000, 0.7854, 1.5708, 0.7854])\n"
          ]
        }
      ]
    },
    {
      "cell_type": "code",
      "source": [
        "# Bitwise Operations\n",
        "print('\\n Bitwise XOR: ')\n",
        "b = torch.tensor([1, 5, 11])\n",
        "c = torch.tensor([2, 7, 10])\n",
        "print(torch.bitwise_xor(b, c))"
      ],
      "metadata": {
        "colab": {
          "base_uri": "https://localhost:8080/"
        },
        "id": "SaywYMvd-CcV",
        "outputId": "56e4b1b3-91fd-4952-ade6-5d9f2cfadade"
      },
      "execution_count": 33,
      "outputs": [
        {
          "output_type": "stream",
          "name": "stdout",
          "text": [
            "\n",
            " Bitwise XOR: \n",
            "tensor([3, 2, 1])\n"
          ]
        }
      ]
    },
    {
      "cell_type": "code",
      "source": [
        "print(b)\n",
        "print(c)"
      ],
      "metadata": {
        "colab": {
          "base_uri": "https://localhost:8080/"
        },
        "id": "JjXoS-X-_Obk",
        "outputId": "1bbb5085-6b43-4b26-a8b6-8ba0061dd019"
      },
      "execution_count": 34,
      "outputs": [
        {
          "output_type": "stream",
          "name": "stdout",
          "text": [
            "tensor([ 1,  5, 11])\n",
            "tensor([ 2,  7, 10])\n"
          ]
        }
      ]
    },
    {
      "cell_type": "code",
      "source": [
        "# comparisons -\n",
        "print('\\n Broadcasted, element-wise equality comparison: ')\n",
        "d = torch.tensor([[1., 2.], [1., 4.]])\n",
        "e = torch.ones(1, 2)\n",
        "print(d)\n",
        "print(e)"
      ],
      "metadata": {
        "colab": {
          "base_uri": "https://localhost:8080/"
        },
        "id": "DKhgnTUR_STi",
        "outputId": "35b29870-1e14-40b5-f55c-5a6dcc1a0cf0"
      },
      "execution_count": 35,
      "outputs": [
        {
          "output_type": "stream",
          "name": "stdout",
          "text": [
            "\n",
            " Broadcasted, element-wise equality comparison: \n",
            "tensor([[1., 2.],\n",
            "        [1., 4.]])\n",
            "tensor([[1., 1.]])\n"
          ]
        }
      ]
    },
    {
      "cell_type": "code",
      "source": [
        "print(torch.eq(d, e)) # it does it element-wise"
      ],
      "metadata": {
        "colab": {
          "base_uri": "https://localhost:8080/"
        },
        "id": "Ng-FGD3B__Uz",
        "outputId": "54511a8e-4af5-41f5-e60a-ee51780561d6"
      },
      "execution_count": 36,
      "outputs": [
        {
          "output_type": "stream",
          "name": "stdout",
          "text": [
            "tensor([[ True, False],\n",
            "        [ True, False]])\n"
          ]
        }
      ]
    },
    {
      "cell_type": "code",
      "source": [
        "print(torch.ge(e, d))"
      ],
      "metadata": {
        "colab": {
          "base_uri": "https://localhost:8080/"
        },
        "id": "4sBc8VEHAIjK",
        "outputId": "3c9119d9-aec9-4739-f7c7-41cc4fade57e"
      },
      "execution_count": 37,
      "outputs": [
        {
          "output_type": "stream",
          "name": "stdout",
          "text": [
            "tensor([[ True, False],\n",
            "        [ True, False]])\n"
          ]
        }
      ]
    },
    {
      "cell_type": "code",
      "source": [
        "# reductions\n",
        "print('\\n Reduction Ops: ')\n",
        "print(torch.max(d)) # returns a single-element tensor\n",
        "print(torch.max(d).item()) # extracts the value from the returned tensor\n",
        "print(torch.mean(d)) # average\n",
        "print(torch.std(d)) # standard deviation\n",
        "print(torch.prod(d)) # product\n",
        "print(torch.unique(torch.tensor([1, 2, 1, 2, 1, 2]))) # filter unique elements"
      ],
      "metadata": {
        "colab": {
          "base_uri": "https://localhost:8080/"
        },
        "id": "XwFpO3pvAXUq",
        "outputId": "c787360f-1b3f-4d01-a606-7ca8c4eb3275"
      },
      "execution_count": 38,
      "outputs": [
        {
          "output_type": "stream",
          "name": "stdout",
          "text": [
            "\n",
            " Reduction Ops: \n",
            "tensor(4.)\n",
            "4.0\n",
            "tensor(2.)\n",
            "tensor(1.4142)\n",
            "tensor(8.)\n",
            "tensor([1, 2])\n"
          ]
        }
      ]
    },
    {
      "cell_type": "code",
      "source": [
        "# vector and linear algebra operations\n",
        "v1 = torch.tensor([1., 0., 0.]) # x unit vector\n",
        "v2 = torch.tensor([0., 1., 0.]) # y unit vector\n",
        "m1 = torch.rand(2, 2) # random matrix\n",
        "m2 = torch.tensor([[3., 0.], [0., 3.]]) # three times identity matrix"
      ],
      "metadata": {
        "id": "e_innsnTA_M6"
      },
      "execution_count": 39,
      "outputs": []
    },
    {
      "cell_type": "code",
      "source": [
        "print(v1)\n",
        "print(v2)\n",
        "print(m1)\n",
        "print(m2)"
      ],
      "metadata": {
        "colab": {
          "base_uri": "https://localhost:8080/"
        },
        "id": "mQdGeeDeC1DL",
        "outputId": "a5dac857-47bf-4d89-ff8a-49b65a633038"
      },
      "execution_count": 40,
      "outputs": [
        {
          "output_type": "stream",
          "name": "stdout",
          "text": [
            "tensor([1., 0., 0.])\n",
            "tensor([0., 1., 0.])\n",
            "tensor([[0.5395, 0.3686],\n",
            "        [0.4007, 0.7220]])\n",
            "tensor([[3., 0.],\n",
            "        [0., 3.]])\n"
          ]
        }
      ]
    },
    {
      "cell_type": "code",
      "source": [
        "print(torch.cross(v2, v1))"
      ],
      "metadata": {
        "colab": {
          "base_uri": "https://localhost:8080/"
        },
        "id": "TQmjak-oC7by",
        "outputId": "900b711f-f826-4292-89ae-67bc3955e100"
      },
      "execution_count": 41,
      "outputs": [
        {
          "output_type": "stream",
          "name": "stdout",
          "text": [
            "tensor([ 0.,  0., -1.])\n"
          ]
        }
      ]
    },
    {
      "cell_type": "code",
      "source": [
        "m3 = torch.matmul(m1, m2)\n",
        "print(m3)"
      ],
      "metadata": {
        "colab": {
          "base_uri": "https://localhost:8080/"
        },
        "id": "3hJsSLmaDJU6",
        "outputId": "f41dcaf5-2185-4667-85b2-55d99976705b"
      },
      "execution_count": 42,
      "outputs": [
        {
          "output_type": "stream",
          "name": "stdout",
          "text": [
            "tensor([[1.6186, 1.1057],\n",
            "        [1.2021, 2.1659]])\n"
          ]
        }
      ]
    },
    {
      "cell_type": "code",
      "source": [
        "print(torch.svd(m3))"
      ],
      "metadata": {
        "colab": {
          "base_uri": "https://localhost:8080/"
        },
        "id": "AZuhcU4mEq3q",
        "outputId": "e2a4d218-0a4f-4c49-bf10-610b84bb75b5"
      },
      "execution_count": 43,
      "outputs": [
        {
          "output_type": "stream",
          "name": "stdout",
          "text": [
            "torch.return_types.svd(\n",
            "U=tensor([[-0.6102, -0.7923],\n",
            "        [-0.7923,  0.6101]]),\n",
            "S=tensor([3.0788, 0.7070]),\n",
            "V=tensor([[-0.6301, -0.7765],\n",
            "        [-0.7765,  0.6301]]))\n"
          ]
        }
      ]
    },
    {
      "cell_type": "markdown",
      "source": [
        "Altering Tensors in Place"
      ],
      "metadata": {
        "id": "c2zhygOIoNLQ"
      }
    },
    {
      "cell_type": "code",
      "source": [
        "a = torch.tensor([0, math.pi / 4, math.pi / 2, 3 * math.pi / 4])\n",
        "print('a: ')\n",
        "print(a)"
      ],
      "metadata": {
        "id": "7Hm_wQMxEvcS",
        "colab": {
          "base_uri": "https://localhost:8080/"
        },
        "outputId": "fada0719-cc24-4037-feed-b1a83d8b59ef"
      },
      "execution_count": 44,
      "outputs": [
        {
          "output_type": "stream",
          "name": "stdout",
          "text": [
            "a: \n",
            "tensor([0.0000, 0.7854, 1.5708, 2.3562])\n"
          ]
        }
      ]
    },
    {
      "cell_type": "code",
      "source": [
        "print(torch.sin(a)) # this operation creates a new tensor in memory\n",
        "print(a) # a has not changed"
      ],
      "metadata": {
        "colab": {
          "base_uri": "https://localhost:8080/"
        },
        "id": "SmQ3GVE-otqR",
        "outputId": "2b054b99-ccc6-46d3-80b9-94e20f542fd2"
      },
      "execution_count": 45,
      "outputs": [
        {
          "output_type": "stream",
          "name": "stdout",
          "text": [
            "tensor([0.0000, 0.7071, 1.0000, 0.7071])\n",
            "tensor([0.0000, 0.7854, 1.5708, 2.3562])\n"
          ]
        }
      ]
    },
    {
      "cell_type": "code",
      "source": [
        "# Now we will do it in place -\n",
        "\n",
        "b = torch.tensor([0, math.pi / 4, math.pi / 2, 3 * math.pi / 4])\n",
        "print('\\nb:')\n",
        "print(b)"
      ],
      "metadata": {
        "colab": {
          "base_uri": "https://localhost:8080/"
        },
        "id": "zCjKDSpHo-0Q",
        "outputId": "091be5b3-e0ef-451a-b8dc-60924718d02a"
      },
      "execution_count": 46,
      "outputs": [
        {
          "output_type": "stream",
          "name": "stdout",
          "text": [
            "\n",
            "b:\n",
            "tensor([0.0000, 0.7854, 1.5708, 2.3562])\n"
          ]
        }
      ]
    },
    {
      "cell_type": "code",
      "source": [
        "print(torch.sin_(b)) # note the underscore, it is used for in-place operation\n",
        "print(b) # 'b' has changed"
      ],
      "metadata": {
        "colab": {
          "base_uri": "https://localhost:8080/"
        },
        "id": "QRl-dy85pWrv",
        "outputId": "4bbd7ced-c86b-4ceb-f664-1e07cb5e9cb3"
      },
      "execution_count": 47,
      "outputs": [
        {
          "output_type": "stream",
          "name": "stdout",
          "text": [
            "tensor([0.0000, 0.7071, 1.0000, 0.7071])\n",
            "tensor([0.0000, 0.7071, 1.0000, 0.7071])\n"
          ]
        }
      ]
    },
    {
      "cell_type": "code",
      "source": [
        "# On the similar note other mathematical functions behave -\n",
        "\n",
        "a = torch.ones(2, 2)\n",
        "b = torch.rand(2, 2)\n",
        "\n",
        "print(\"Before: \")\n",
        "print(a)\n",
        "print(b)\n",
        "\n",
        "print(\"\\n After adding : \")\n",
        "print(a.add_(b))\n",
        "print(a)\n",
        "print(b)\n",
        "\n",
        "print('\\n After multiplying: ')\n",
        "print(b.mul_(b))\n",
        "print(b)"
      ],
      "metadata": {
        "colab": {
          "base_uri": "https://localhost:8080/"
        },
        "id": "WM7zKw4kpp-A",
        "outputId": "d8de4dde-f9ac-4348-a9d2-042137b79dcf"
      },
      "execution_count": 48,
      "outputs": [
        {
          "output_type": "stream",
          "name": "stdout",
          "text": [
            "Before: \n",
            "tensor([[1., 1.],\n",
            "        [1., 1.]])\n",
            "tensor([[0.8217, 0.2612],\n",
            "        [0.7375, 0.8328]])\n",
            "\n",
            " After adding : \n",
            "tensor([[1.8217, 1.2612],\n",
            "        [1.7375, 1.8328]])\n",
            "tensor([[1.8217, 1.2612],\n",
            "        [1.7375, 1.8328]])\n",
            "tensor([[0.8217, 0.2612],\n",
            "        [0.7375, 0.8328]])\n",
            "\n",
            " After multiplying: \n",
            "tensor([[0.6752, 0.0682],\n",
            "        [0.5439, 0.6936]])\n",
            "tensor([[0.6752, 0.0682],\n",
            "        [0.5439, 0.6936]])\n"
          ]
        }
      ]
    },
    {
      "cell_type": "code",
      "source": [
        "a = torch.rand(2, 2)\n",
        "b = torch.rand(2, 2)\n",
        "c = torch.zeros(2, 2)\n",
        "print(a)\n",
        "print(b)"
      ],
      "metadata": {
        "colab": {
          "base_uri": "https://localhost:8080/"
        },
        "id": "jj03VekaqTE4",
        "outputId": "4e6aadcd-476a-4604-b694-e54cbb2c4b99"
      },
      "execution_count": 52,
      "outputs": [
        {
          "output_type": "stream",
          "name": "stdout",
          "text": [
            "tensor([[0.9877, 0.0352],\n",
            "        [0.0905, 0.4485]])\n",
            "tensor([[0.8740, 0.2526],\n",
            "        [0.6923, 0.7545]])\n"
          ]
        }
      ]
    },
    {
      "cell_type": "code",
      "source": [
        "old_id = id(c)\n",
        "print(old_id)"
      ],
      "metadata": {
        "colab": {
          "base_uri": "https://localhost:8080/"
        },
        "id": "apmtyq5crItf",
        "outputId": "d807c031-00fb-4236-ad77-85cbf36eaf97"
      },
      "execution_count": 53,
      "outputs": [
        {
          "output_type": "stream",
          "name": "stdout",
          "text": [
            "139944029920128\n"
          ]
        }
      ]
    },
    {
      "cell_type": "code",
      "source": [
        "print(c)"
      ],
      "metadata": {
        "colab": {
          "base_uri": "https://localhost:8080/"
        },
        "id": "73FycsqXrvu_",
        "outputId": "af7e63b1-d951-4869-c0fa-24f51cf9cfcd"
      },
      "execution_count": 54,
      "outputs": [
        {
          "output_type": "stream",
          "name": "stdout",
          "text": [
            "tensor([[0., 0.],\n",
            "        [0., 0.]])\n"
          ]
        }
      ]
    },
    {
      "cell_type": "code",
      "source": [
        "d = torch.matmul(a, b, out = c) # multiplying 'a' and 'b' and putting the output in 'c'\n",
        "print(c)"
      ],
      "metadata": {
        "colab": {
          "base_uri": "https://localhost:8080/"
        },
        "id": "b41IYJJhr7gw",
        "outputId": "d0819b09-91e5-487d-89dc-4b5aa909bd52"
      },
      "execution_count": 56,
      "outputs": [
        {
          "output_type": "stream",
          "name": "stdout",
          "text": [
            "tensor([[0.8877, 0.2761],\n",
            "        [0.3896, 0.3613]])\n"
          ]
        }
      ]
    },
    {
      "cell_type": "code",
      "source": [
        "print(d)"
      ],
      "metadata": {
        "colab": {
          "base_uri": "https://localhost:8080/"
        },
        "id": "gllT4TXhsDOm",
        "outputId": "72938a33-3304-4679-dc04-c346e0d28d8e"
      },
      "execution_count": 57,
      "outputs": [
        {
          "output_type": "stream",
          "name": "stdout",
          "text": [
            "tensor([[0.8877, 0.2761],\n",
            "        [0.3896, 0.3613]])\n"
          ]
        }
      ]
    },
    {
      "cell_type": "code",
      "source": [
        "# 'c' and 'd' has same values, let us also check if c & d are the same object or not.\n",
        "assert c is d"
      ],
      "metadata": {
        "id": "UhK-ldeusXN3"
      },
      "execution_count": 58,
      "outputs": []
    },
    {
      "cell_type": "code",
      "source": [
        "# yes we saw it is the same object"
      ],
      "metadata": {
        "id": "UXjTOAMTsk5v"
      },
      "execution_count": 59,
      "outputs": []
    },
    {
      "cell_type": "code",
      "source": [
        "assert id(c), old_id"
      ],
      "metadata": {
        "id": "o2CUHR-Wssqf"
      },
      "execution_count": 60,
      "outputs": []
    },
    {
      "cell_type": "code",
      "source": [
        "torch.rand(2, 2, out = c)\n",
        "print(c)"
      ],
      "metadata": {
        "colab": {
          "base_uri": "https://localhost:8080/"
        },
        "id": "cigSTMqnswY_",
        "outputId": "fb40fffb-7b28-401c-d7bc-f7caa727d1f6"
      },
      "execution_count": 61,
      "outputs": [
        {
          "output_type": "stream",
          "name": "stdout",
          "text": [
            "tensor([[0.7746, 0.2330],\n",
            "        [0.8441, 0.9004]])\n"
          ]
        }
      ]
    },
    {
      "cell_type": "code",
      "source": [
        "assert id(c), old_id"
      ],
      "metadata": {
        "id": "ImvjVpHds7A-"
      },
      "execution_count": 62,
      "outputs": []
    },
    {
      "cell_type": "code",
      "source": [
        "# The object remains same as we are doing an inplace operation"
      ],
      "metadata": {
        "id": "ZRaOLwDOs_Bu"
      },
      "execution_count": 63,
      "outputs": []
    },
    {
      "cell_type": "markdown",
      "source": [
        "Copying Tensors"
      ],
      "metadata": {
        "id": "_NfSiRWHtGSi"
      }
    },
    {
      "cell_type": "code",
      "source": [
        "# This is how any object in Python works as well \n",
        "\n",
        "a = torch.ones(2, 2)\n",
        "b = a"
      ],
      "metadata": {
        "id": "93hMDCubtELm"
      },
      "execution_count": 65,
      "outputs": []
    },
    {
      "cell_type": "code",
      "source": [
        "print(a)"
      ],
      "metadata": {
        "colab": {
          "base_uri": "https://localhost:8080/"
        },
        "id": "Hg2SOLaVt1Dc",
        "outputId": "a33e5fd1-fdd1-41b4-9797-3467a682d9b9"
      },
      "execution_count": 66,
      "outputs": [
        {
          "output_type": "stream",
          "name": "stdout",
          "text": [
            "tensor([[1., 1.],\n",
            "        [1., 1.]])\n"
          ]
        }
      ]
    },
    {
      "cell_type": "code",
      "source": [
        "print(b)"
      ],
      "metadata": {
        "colab": {
          "base_uri": "https://localhost:8080/"
        },
        "id": "7VQU6ArMt-pW",
        "outputId": "3746ec79-8530-4e37-8377-8a462b94cdbf"
      },
      "execution_count": 67,
      "outputs": [
        {
          "output_type": "stream",
          "name": "stdout",
          "text": [
            "tensor([[1., 1.],\n",
            "        [1., 1.]])\n"
          ]
        }
      ]
    },
    {
      "cell_type": "code",
      "source": [
        "a[0][1] = 561\n",
        "print(a)"
      ],
      "metadata": {
        "colab": {
          "base_uri": "https://localhost:8080/"
        },
        "id": "OK-n_-B-t_4W",
        "outputId": "6efa469b-9ac6-433e-c1f1-b842df454e3f"
      },
      "execution_count": 68,
      "outputs": [
        {
          "output_type": "stream",
          "name": "stdout",
          "text": [
            "tensor([[  1., 561.],\n",
            "        [  1.,   1.]])\n"
          ]
        }
      ]
    },
    {
      "cell_type": "code",
      "source": [
        "print(b)"
      ],
      "metadata": {
        "colab": {
          "base_uri": "https://localhost:8080/"
        },
        "id": "LCN0-MHPuFBH",
        "outputId": "6a150448-5d20-4317-d029-4210a401f129"
      },
      "execution_count": 69,
      "outputs": [
        {
          "output_type": "stream",
          "name": "stdout",
          "text": [
            "tensor([[  1., 561.],\n",
            "        [  1.,   1.]])\n"
          ]
        }
      ]
    },
    {
      "cell_type": "markdown",
      "source": [
        "Say you want to have a separate copy of the data to work on "
      ],
      "metadata": {
        "id": "tNGgsOAwuJg9"
      }
    },
    {
      "cell_type": "code",
      "source": [
        "a = torch.ones(2, 2)\n",
        "b = a.clone()"
      ],
      "metadata": {
        "id": "vow4YMYguGVm"
      },
      "execution_count": 70,
      "outputs": []
    },
    {
      "cell_type": "code",
      "source": [
        "assert b is not a   # different objects in memory ..."
      ],
      "metadata": {
        "id": "BvZkFJXmudIu"
      },
      "execution_count": 71,
      "outputs": []
    },
    {
      "cell_type": "code",
      "source": [
        "print(torch.eq(a, b)) # although different objects in the memory but still have the same content"
      ],
      "metadata": {
        "colab": {
          "base_uri": "https://localhost:8080/"
        },
        "id": "nHLzgs4juoS-",
        "outputId": "a922e017-2712-42de-9b72-25346011bb13"
      },
      "execution_count": 72,
      "outputs": [
        {
          "output_type": "stream",
          "name": "stdout",
          "text": [
            "tensor([[True, True],\n",
            "        [True, True]])\n"
          ]
        }
      ]
    },
    {
      "cell_type": "code",
      "source": [
        "a[0][1] = 561\n",
        "print(a)"
      ],
      "metadata": {
        "colab": {
          "base_uri": "https://localhost:8080/"
        },
        "id": "YlwOelHuuzAO",
        "outputId": "b8bd8284-74ce-45e2-e176-d07054bc623f"
      },
      "execution_count": 73,
      "outputs": [
        {
          "output_type": "stream",
          "name": "stdout",
          "text": [
            "tensor([[  1., 561.],\n",
            "        [  1.,   1.]])\n"
          ]
        }
      ]
    },
    {
      "cell_type": "code",
      "source": [
        "print(b)"
      ],
      "metadata": {
        "colab": {
          "base_uri": "https://localhost:8080/"
        },
        "id": "79TH8bX3u5dm",
        "outputId": "d8eead38-4b56-460f-f683-b541b5e3b383"
      },
      "execution_count": 74,
      "outputs": [
        {
          "output_type": "stream",
          "name": "stdout",
          "text": [
            "tensor([[1., 1.],\n",
            "        [1., 1.]])\n"
          ]
        }
      ]
    },
    {
      "cell_type": "code",
      "source": [
        "a = torch.rand(2, 2, requires_grad = True) # turn on autograd\n",
        "print(a)\n",
        "\n",
        "b = a.clone()\n",
        "print(b)"
      ],
      "metadata": {
        "colab": {
          "base_uri": "https://localhost:8080/"
        },
        "id": "c2lPIpgyu6im",
        "outputId": "d9663de8-919c-4936-b426-ebc129e42f9e"
      },
      "execution_count": 75,
      "outputs": [
        {
          "output_type": "stream",
          "name": "stdout",
          "text": [
            "tensor([[0.3995, 0.6324],\n",
            "        [0.9464, 0.0113]], requires_grad=True)\n",
            "tensor([[0.3995, 0.6324],\n",
            "        [0.9464, 0.0113]], grad_fn=<CloneBackward0>)\n"
          ]
        }
      ]
    },
    {
      "cell_type": "code",
      "source": [
        "c = a.detach().clone()\n",
        "print(c)\n",
        "\n",
        "print(a)"
      ],
      "metadata": {
        "colab": {
          "base_uri": "https://localhost:8080/"
        },
        "id": "w3SSKMdgvviW",
        "outputId": "7cc5cf26-1683-4657-fc9d-751c752d662a"
      },
      "execution_count": 76,
      "outputs": [
        {
          "output_type": "stream",
          "name": "stdout",
          "text": [
            "tensor([[0.3995, 0.6324],\n",
            "        [0.9464, 0.0113]])\n",
            "tensor([[0.3995, 0.6324],\n",
            "        [0.9464, 0.0113]], requires_grad=True)\n"
          ]
        }
      ]
    },
    {
      "cell_type": "markdown",
      "source": [
        "Moving to GPU"
      ],
      "metadata": {
        "id": "o55-e9H4wF28"
      }
    },
    {
      "cell_type": "code",
      "source": [
        "if torch.cuda.is_available():\n",
        "  print(\"We have a GPU !!\")\n",
        "else:\n",
        "  print(\"Sorry, CPU only ...\")"
      ],
      "metadata": {
        "colab": {
          "base_uri": "https://localhost:8080/"
        },
        "id": "iWvMfoNzv9RV",
        "outputId": "deb2ca62-4739-45fc-a724-378ceee7379c"
      },
      "execution_count": 77,
      "outputs": [
        {
          "output_type": "stream",
          "name": "stdout",
          "text": [
            "Sorry, CPU only ...\n"
          ]
        }
      ]
    },
    {
      "cell_type": "code",
      "source": [
        "if torch.cuda.is_available():\n",
        "  gpu_rand = torch.rand(2, 2, device = 'cuda')  # moving tensors to the GPU\n",
        "  print(gpu_rand)\n",
        "else:\n",
        "  print(\"Sorry, CPU only ...\")"
      ],
      "metadata": {
        "colab": {
          "base_uri": "https://localhost:8080/"
        },
        "id": "qECbx5WkwmPP",
        "outputId": "19da7021-e1bb-47d9-8abd-213a50e7ae09"
      },
      "execution_count": 78,
      "outputs": [
        {
          "output_type": "stream",
          "name": "stdout",
          "text": [
            "Sorry, CPU only ...\n"
          ]
        }
      ]
    },
    {
      "cell_type": "code",
      "source": [
        "if torch.cuda.is_available():\n",
        "  my_device = torch.device('cuda') # this is your handle now\n",
        "else:\n",
        "  my_device = torch.device('cpu')\n",
        "\n",
        "print('Device : {}'.format(my_device))"
      ],
      "metadata": {
        "colab": {
          "base_uri": "https://localhost:8080/"
        },
        "id": "aKIFTvO3xQxN",
        "outputId": "838574b0-315a-4778-9465-14bc09e8ba0a"
      },
      "execution_count": 79,
      "outputs": [
        {
          "output_type": "stream",
          "name": "stdout",
          "text": [
            "Device : cpu\n"
          ]
        }
      ]
    },
    {
      "cell_type": "code",
      "source": [
        "x = torch.rand(2, 2, device = my_device)\n",
        "print(x)"
      ],
      "metadata": {
        "colab": {
          "base_uri": "https://localhost:8080/"
        },
        "id": "rIJxkB7FyBTu",
        "outputId": "f2c13868-3582-4f26-b5a4-cc5dbf30033c"
      },
      "execution_count": 80,
      "outputs": [
        {
          "output_type": "stream",
          "name": "stdout",
          "text": [
            "tensor([[0.5183, 0.9807],\n",
            "        [0.6545, 0.4144]])\n"
          ]
        }
      ]
    },
    {
      "cell_type": "markdown",
      "source": [
        "If you have an existing tensor living on one device, you can move it to another with the to() method. The following line of code creates a tensor on CPU, and move it to whichever device handle you acquired"
      ],
      "metadata": {
        "id": "JC0Tw-6gyTBL"
      }
    },
    {
      "cell_type": "code",
      "source": [
        "y = torch.rand(2, 2)\n",
        "y = y.to(my_device)"
      ],
      "metadata": {
        "id": "ZXVgDi0GyIqu"
      },
      "execution_count": 81,
      "outputs": []
    },
    {
      "cell_type": "code",
      "source": [
        "print(y)"
      ],
      "metadata": {
        "colab": {
          "base_uri": "https://localhost:8080/"
        },
        "id": "ZZcKi3lAyyVE",
        "outputId": "3083928b-5bf9-45be-a7fe-e4e72a07766f"
      },
      "execution_count": 82,
      "outputs": [
        {
          "output_type": "stream",
          "name": "stdout",
          "text": [
            "tensor([[0.0696, 0.4648],\n",
            "        [0.4491, 0.6265]])\n"
          ]
        }
      ]
    },
    {
      "cell_type": "markdown",
      "source": [
        "Manipulating Tensor Shapes -\n",
        "\n",
        "1. Changing the number of dimensions -\n",
        "\n",
        "When we want to pass a single instance of input to your model. Pytorch models generally expect batches of input. \n",
        "\n",
        "For example, imagine having a model that works on 3 x 226 x 226 images (i.e. a 226-pixel square with 3 color channels). When you load and transform it, you will get a tensor shape (3, 226, 226). \n",
        "\n",
        "Your model is expecting input shape of (N, 3, 226, 226) where 'N' is the number of images in the batch.\n",
        "\n",
        "You can make a batch of using unsqueeze()"
      ],
      "metadata": {
        "id": "LBWqtE2gzXVX"
      }
    },
    {
      "cell_type": "code",
      "source": [
        "a = torch.rand(3, 226, 226)\n",
        "b = a.unsqueeze(0)\n",
        "\n",
        "print(a.shape)\n",
        "print(b.shape)"
      ],
      "metadata": {
        "colab": {
          "base_uri": "https://localhost:8080/"
        },
        "id": "ol42sFKvy1Fs",
        "outputId": "55ab37af-0142-4156-ac62-4375b4a1cf44"
      },
      "execution_count": 83,
      "outputs": [
        {
          "output_type": "stream",
          "name": "stdout",
          "text": [
            "torch.Size([3, 226, 226])\n",
            "torch.Size([1, 3, 226, 226])\n"
          ]
        }
      ]
    },
    {
      "cell_type": "code",
      "source": [
        "c = torch.rand(1, 1, 1, 1, 1)\n",
        "print(c)"
      ],
      "metadata": {
        "colab": {
          "base_uri": "https://localhost:8080/"
        },
        "id": "ZZzLLrvh1eNU",
        "outputId": "3b6d9610-cf8e-48c1-96d9-47a315e263d0"
      },
      "execution_count": 85,
      "outputs": [
        {
          "output_type": "stream",
          "name": "stdout",
          "text": [
            "tensor([[[[[0.8207]]]]])\n"
          ]
        }
      ]
    },
    {
      "cell_type": "markdown",
      "source": [
        "If we want to do a non-batched computation with that output i.e. expecting a 20-element vector"
      ],
      "metadata": {
        "id": "zBqrVi9Y15Nk"
      }
    },
    {
      "cell_type": "code",
      "source": [
        "a = torch.rand(1, 20)\n",
        "print(a.shape)\n",
        "print(a)"
      ],
      "metadata": {
        "colab": {
          "base_uri": "https://localhost:8080/"
        },
        "id": "Ntecilzv1m88",
        "outputId": "7a38f5e2-5a90-4e00-c988-9fdfa35d5a58"
      },
      "execution_count": 86,
      "outputs": [
        {
          "output_type": "stream",
          "name": "stdout",
          "text": [
            "torch.Size([1, 20])\n",
            "tensor([[0.6818, 0.5057, 0.9335, 0.9769, 0.2792, 0.3277, 0.5210, 0.7349, 0.7823,\n",
            "         0.8637, 0.1891, 0.3952, 0.9176, 0.8960, 0.4887, 0.8625, 0.6191, 0.9935,\n",
            "         0.1844, 0.6138]])\n"
          ]
        }
      ]
    },
    {
      "cell_type": "code",
      "source": [
        "b = a.squeeze(0)\n",
        "print(b.shape)\n",
        "print(b)"
      ],
      "metadata": {
        "colab": {
          "base_uri": "https://localhost:8080/"
        },
        "id": "4dzT1HN_2RvL",
        "outputId": "a7d8f022-c072-4f2d-e9b1-a92cb367ebb9"
      },
      "execution_count": 89,
      "outputs": [
        {
          "output_type": "stream",
          "name": "stdout",
          "text": [
            "torch.Size([20])\n",
            "tensor([0.6818, 0.5057, 0.9335, 0.9769, 0.2792, 0.3277, 0.5210, 0.7349, 0.7823,\n",
            "        0.8637, 0.1891, 0.3952, 0.9176, 0.8960, 0.4887, 0.8625, 0.6191, 0.9935,\n",
            "        0.1844, 0.6138])\n"
          ]
        }
      ]
    },
    {
      "cell_type": "code",
      "source": [
        "c = torch.rand(2, 2)\n",
        "print(c.shape)"
      ],
      "metadata": {
        "colab": {
          "base_uri": "https://localhost:8080/"
        },
        "id": "3IRsBWrE2fOU",
        "outputId": "3967a211-2cdd-41ed-fec9-9981044acff4"
      },
      "execution_count": 94,
      "outputs": [
        {
          "output_type": "stream",
          "name": "stdout",
          "text": [
            "torch.Size([2, 2])\n"
          ]
        }
      ]
    },
    {
      "cell_type": "code",
      "source": [
        "d = c.squeeze(0)\n",
        "print(d.shape)"
      ],
      "metadata": {
        "colab": {
          "base_uri": "https://localhost:8080/"
        },
        "id": "w8HYwBbP2rlj",
        "outputId": "2e222ef3-1920-48ae-cd29-705b21b42697"
      },
      "execution_count": 95,
      "outputs": [
        {
          "output_type": "stream",
          "name": "stdout",
          "text": [
            "torch.Size([2, 2])\n"
          ]
        }
      ]
    },
    {
      "cell_type": "markdown",
      "source": [
        "2. Broadcasting"
      ],
      "metadata": {
        "id": "LjD6uF1D3bhq"
      }
    },
    {
      "cell_type": "code",
      "source": [
        "a = torch.ones(4, 3, 2)\n",
        "b = torch.rand(   3) # trying to multiply a * b will give you a runtime error\n",
        "c = b.unsqueeze(1) # change to a 2-dimensional tensor, adding new dimension at the end\n",
        "print(c.shape)"
      ],
      "metadata": {
        "colab": {
          "base_uri": "https://localhost:8080/"
        },
        "id": "M5ht5JVO27FE",
        "outputId": "25b00403-c6b0-4ddc-8b11-6b9f7d2cf191"
      },
      "execution_count": 99,
      "outputs": [
        {
          "output_type": "stream",
          "name": "stdout",
          "text": [
            "torch.Size([3, 1])\n"
          ]
        }
      ]
    },
    {
      "cell_type": "code",
      "source": [
        "print(a * c)"
      ],
      "metadata": {
        "colab": {
          "base_uri": "https://localhost:8080/"
        },
        "id": "qR8UfdHm4Ji_",
        "outputId": "1567e875-a15f-47c8-e387-80ecc478b011"
      },
      "execution_count": 100,
      "outputs": [
        {
          "output_type": "stream",
          "name": "stdout",
          "text": [
            "tensor([[[0.4362, 0.4362],\n",
            "         [0.2368, 0.2368],\n",
            "         [0.1394, 0.1394]],\n",
            "\n",
            "        [[0.4362, 0.4362],\n",
            "         [0.2368, 0.2368],\n",
            "         [0.1394, 0.1394]],\n",
            "\n",
            "        [[0.4362, 0.4362],\n",
            "         [0.2368, 0.2368],\n",
            "         [0.1394, 0.1394]],\n",
            "\n",
            "        [[0.4362, 0.4362],\n",
            "         [0.2368, 0.2368],\n",
            "         [0.1394, 0.1394]]])\n"
          ]
        }
      ]
    },
    {
      "cell_type": "markdown",
      "source": [
        "Both squeeze() and unsqueeze() have an in-place versions using squeeze_() and unsqueeze_()"
      ],
      "metadata": {
        "id": "jn2Ykx6L4Ty0"
      }
    },
    {
      "cell_type": "code",
      "source": [
        "output3d = torch.rand(6, 20, 20)\n",
        "print(output3d.shape)"
      ],
      "metadata": {
        "colab": {
          "base_uri": "https://localhost:8080/"
        },
        "id": "MXTpwdT54O0r",
        "outputId": "5deb4d32-6561-4f85-8252-10efd6eacd4e"
      },
      "execution_count": 101,
      "outputs": [
        {
          "output_type": "stream",
          "name": "stdout",
          "text": [
            "torch.Size([6, 20, 20])\n"
          ]
        }
      ]
    },
    {
      "cell_type": "code",
      "source": [
        "inputId = output3d.reshape(6 * 20 * 20)\n",
        "print(inputId.shape)"
      ],
      "metadata": {
        "colab": {
          "base_uri": "https://localhost:8080/"
        },
        "id": "kkFBhohX5Faz",
        "outputId": "9adb9c2c-d945-4280-bb85-75160e516b14"
      },
      "execution_count": 103,
      "outputs": [
        {
          "output_type": "stream",
          "name": "stdout",
          "text": [
            "torch.Size([2400])\n"
          ]
        }
      ]
    },
    {
      "cell_type": "code",
      "source": [
        "inputId"
      ],
      "metadata": {
        "colab": {
          "base_uri": "https://localhost:8080/"
        },
        "id": "3qS6XwF05Svz",
        "outputId": "90523ee5-490a-4bf5-8699-7eda004e8f7f"
      },
      "execution_count": 104,
      "outputs": [
        {
          "output_type": "execute_result",
          "data": {
            "text/plain": [
              "tensor([0.1721, 0.1751, 0.3851,  ..., 0.6032, 0.5349, 0.4536])"
            ]
          },
          "metadata": {},
          "execution_count": 104
        }
      ]
    },
    {
      "cell_type": "code",
      "source": [
        "# we can also use the following implementation -\n",
        "\n",
        "print(torch.reshape(output3d, (6 * 20 * 20, )).shape)"
      ],
      "metadata": {
        "colab": {
          "base_uri": "https://localhost:8080/"
        },
        "id": "3mB5O4_u5fZC",
        "outputId": "3101154b-edbb-417d-86c9-65d2e19aaf34"
      },
      "execution_count": 105,
      "outputs": [
        {
          "output_type": "stream",
          "name": "stdout",
          "text": [
            "torch.Size([2400])\n"
          ]
        }
      ]
    },
    {
      "cell_type": "markdown",
      "source": [
        "NumPy Bridge"
      ],
      "metadata": {
        "id": "ko9v7-Ub6I9G"
      }
    },
    {
      "cell_type": "code",
      "source": [
        "import numpy as np"
      ],
      "metadata": {
        "id": "NAIE4vkr5w4a"
      },
      "execution_count": 106,
      "outputs": []
    },
    {
      "cell_type": "code",
      "source": [
        "numpy_array = np.ones((2, 3))\n",
        "print(numpy_array)"
      ],
      "metadata": {
        "colab": {
          "base_uri": "https://localhost:8080/"
        },
        "id": "Z9W8uSiH6ThD",
        "outputId": "ad7950c0-be9c-41b6-dfec-3f64685b01e3"
      },
      "execution_count": 107,
      "outputs": [
        {
          "output_type": "stream",
          "name": "stdout",
          "text": [
            "[[1. 1. 1.]\n",
            " [1. 1. 1.]]\n"
          ]
        }
      ]
    },
    {
      "cell_type": "code",
      "source": [
        "pytorch_tensor = torch.from_numpy(numpy_array)\n",
        "print(pytorch_tensor)"
      ],
      "metadata": {
        "colab": {
          "base_uri": "https://localhost:8080/"
        },
        "id": "Ecg8h73l6bsS",
        "outputId": "677e7cfb-0088-4452-aec8-6cd783200916"
      },
      "execution_count": 108,
      "outputs": [
        {
          "output_type": "stream",
          "name": "stdout",
          "text": [
            "tensor([[1., 1., 1.],\n",
            "        [1., 1., 1.]], dtype=torch.float64)\n"
          ]
        }
      ]
    },
    {
      "cell_type": "code",
      "source": [
        "pytorch_rand = torch.rand(2, 3)\n",
        "print(pytorch_rand)"
      ],
      "metadata": {
        "colab": {
          "base_uri": "https://localhost:8080/"
        },
        "id": "i4j8YoOt6q1i",
        "outputId": "6ccb0185-3068-43ca-a216-242a2b63bbd7"
      },
      "execution_count": 109,
      "outputs": [
        {
          "output_type": "stream",
          "name": "stdout",
          "text": [
            "tensor([[0.7441, 0.9803, 0.3956],\n",
            "        [0.3535, 0.9068, 0.9509]])\n"
          ]
        }
      ]
    },
    {
      "cell_type": "code",
      "source": [
        "numpy_rand = pytorch_rand.numpy()\n",
        "print(numpy_rand)"
      ],
      "metadata": {
        "colab": {
          "base_uri": "https://localhost:8080/"
        },
        "id": "uSXK5m4p62CK",
        "outputId": "e610b8d2-4be3-4950-f3e5-d87340291a23"
      },
      "execution_count": 110,
      "outputs": [
        {
          "output_type": "stream",
          "name": "stdout",
          "text": [
            "[[0.74405384 0.98029405 0.39563763]\n",
            " [0.35353196 0.90680194 0.9508812 ]]\n"
          ]
        }
      ]
    },
    {
      "cell_type": "code",
      "source": [
        "# Note these converted objects are using the same underlying memory as their source objects\n",
        "# meaning that changes to one are reflected in the other."
      ],
      "metadata": {
        "id": "G4DIjlXG7DIS"
      },
      "execution_count": 111,
      "outputs": []
    },
    {
      "cell_type": "code",
      "source": [
        "numpy_array[1, 1] = 23\n",
        "print(pytorch_tensor)"
      ],
      "metadata": {
        "colab": {
          "base_uri": "https://localhost:8080/"
        },
        "id": "OQu_yPNI7csy",
        "outputId": "e48222f7-da2c-4abe-ac4f-62fe76a7026b"
      },
      "execution_count": 112,
      "outputs": [
        {
          "output_type": "stream",
          "name": "stdout",
          "text": [
            "tensor([[ 1.,  1.,  1.],\n",
            "        [ 1., 23.,  1.]], dtype=torch.float64)\n"
          ]
        }
      ]
    },
    {
      "cell_type": "code",
      "source": [
        "pytorch_rand[1, 1] = 17\n",
        "print(numpy_rand)"
      ],
      "metadata": {
        "colab": {
          "base_uri": "https://localhost:8080/"
        },
        "id": "pg9TD6sn7lYy",
        "outputId": "0e64cddc-8166-499b-cc0d-11f19e1ad703"
      },
      "execution_count": 113,
      "outputs": [
        {
          "output_type": "stream",
          "name": "stdout",
          "text": [
            "[[ 0.74405384  0.98029405  0.39563763]\n",
            " [ 0.35353196 17.          0.9508812 ]]\n"
          ]
        }
      ]
    },
    {
      "cell_type": "code",
      "source": [],
      "metadata": {
        "id": "dAMsqkRP7r8S"
      },
      "execution_count": null,
      "outputs": []
    }
  ]
}