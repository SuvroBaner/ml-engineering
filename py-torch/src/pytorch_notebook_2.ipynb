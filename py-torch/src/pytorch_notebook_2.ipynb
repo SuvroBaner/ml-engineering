{
  "nbformat": 4,
  "nbformat_minor": 0,
  "metadata": {
    "colab": {
      "provenance": []
    },
    "kernelspec": {
      "name": "python3",
      "display_name": "Python 3"
    },
    "language_info": {
      "name": "python"
    }
  },
  "cells": [
    {
      "cell_type": "markdown",
      "source": [
        "### Pytorch Tensors\n",
        "\n",
        "It is the central data abstraction in PyTorch"
      ],
      "metadata": {
        "id": "HdbAEqx1nTj1"
      }
    },
    {
      "cell_type": "code",
      "execution_count": 1,
      "metadata": {
        "id": "14WOlTcVm5-G"
      },
      "outputs": [],
      "source": [
        "import torch\n",
        "import math"
      ]
    },
    {
      "cell_type": "code",
      "source": [
        "x = torch.empty(3, 4)\n",
        "print(type(x))\n",
        "print(x)"
      ],
      "metadata": {
        "colab": {
          "base_uri": "https://localhost:8080/"
        },
        "id": "IkttOFnfnoRc",
        "outputId": "db1f3fa8-e04d-4318-ce1e-00a90808bfae"
      },
      "execution_count": 3,
      "outputs": [
        {
          "output_type": "stream",
          "name": "stdout",
          "text": [
            "<class 'torch.Tensor'>\n",
            "tensor([[1.6300e-35, 0.0000e+00, 5.0447e-44, 0.0000e+00],\n",
            "        [       nan, 0.0000e+00, 1.3788e-14, 3.6423e-06],\n",
            "        [2.0699e-19, 3.3738e-12, 7.4086e+28, 6.9397e+22]])\n"
          ]
        }
      ]
    },
    {
      "cell_type": "code",
      "source": [
        "# Other factory methods -\n",
        "zeros = torch.zeros(2, 3)\n",
        "print(zeros)"
      ],
      "metadata": {
        "colab": {
          "base_uri": "https://localhost:8080/"
        },
        "id": "87is-FYbn4zV",
        "outputId": "5f8a4b76-c53f-4d80-d270-cc854ecae0e2"
      },
      "execution_count": 4,
      "outputs": [
        {
          "output_type": "stream",
          "name": "stdout",
          "text": [
            "tensor([[0., 0., 0.],\n",
            "        [0., 0., 0.]])\n"
          ]
        }
      ]
    },
    {
      "cell_type": "code",
      "source": [
        "ones = torch.ones(2, 3)\n",
        "print(ones)"
      ],
      "metadata": {
        "colab": {
          "base_uri": "https://localhost:8080/"
        },
        "id": "JBAz0rK6puWX",
        "outputId": "9c03b638-da9a-463c-bdbb-1f275426c4b8"
      },
      "execution_count": 5,
      "outputs": [
        {
          "output_type": "stream",
          "name": "stdout",
          "text": [
            "tensor([[1., 1., 1.],\n",
            "        [1., 1., 1.]])\n"
          ]
        }
      ]
    },
    {
      "cell_type": "code",
      "source": [
        "torch.manual_seed(1729)\n",
        "random = torch.rand(2, 3)\n",
        "print(random)"
      ],
      "metadata": {
        "colab": {
          "base_uri": "https://localhost:8080/"
        },
        "id": "mJOj2Ur9pzUl",
        "outputId": "16ccf2ff-978a-4879-b421-b2133756ce48"
      },
      "execution_count": 6,
      "outputs": [
        {
          "output_type": "stream",
          "name": "stdout",
          "text": [
            "tensor([[0.3126, 0.3791, 0.3087],\n",
            "        [0.0736, 0.4216, 0.0691]])\n"
          ]
        }
      ]
    },
    {
      "cell_type": "code",
      "source": [
        "x = torch.empty(2, 2, 3)\n",
        "print(x.shape)\n",
        "print(x)"
      ],
      "metadata": {
        "colab": {
          "base_uri": "https://localhost:8080/"
        },
        "id": "GIzymFBqp_Tm",
        "outputId": "53f5ac15-5983-49b1-c8c7-309e321a67d7"
      },
      "execution_count": 7,
      "outputs": [
        {
          "output_type": "stream",
          "name": "stdout",
          "text": [
            "torch.Size([2, 2, 3])\n",
            "tensor([[[1.6304e-35, 0.0000e+00, 3.0867e-01],\n",
            "         [7.3580e-02, 4.2160e-01, 6.9054e-02]],\n",
            "\n",
            "        [[1.3556e-19, 8.6462e+11, 3.2778e+09],\n",
            "         [1.4988e+10, 3.2522e+03, 1.3023e+01]]])\n"
          ]
        }
      ]
    },
    {
      "cell_type": "code",
      "source": [
        "empty_like_x = torch.empty_like(x)\n",
        "print(empty_like_x.shape)\n",
        "print(empty_like_x)"
      ],
      "metadata": {
        "colab": {
          "base_uri": "https://localhost:8080/"
        },
        "id": "wwHUWBcoqsMF",
        "outputId": "367e8f6b-0282-40d0-ebbc-4fb8dd4df403"
      },
      "execution_count": 8,
      "outputs": [
        {
          "output_type": "stream",
          "name": "stdout",
          "text": [
            "torch.Size([2, 2, 3])\n",
            "tensor([[[1.6303e-35, 0.0000e+00, 3.3631e-44],\n",
            "         [0.0000e+00,        nan, 6.4460e-44]],\n",
            "\n",
            "        [[1.1578e+27, 1.1362e+30, 7.1547e+22],\n",
            "         [4.5828e+30, 1.2121e+04, 7.1846e+22]]])\n"
          ]
        }
      ]
    },
    {
      "cell_type": "code",
      "source": [
        "zeros_like_x = torch.empty_like(x)\n",
        "print(zeros_like_x)\n",
        "print(zeros_like_x.shape)"
      ],
      "metadata": {
        "colab": {
          "base_uri": "https://localhost:8080/"
        },
        "id": "WQcIh3UNrVId",
        "outputId": "8909eade-0d08-411e-f500-ef4463e8f217"
      },
      "execution_count": 9,
      "outputs": [
        {
          "output_type": "stream",
          "name": "stdout",
          "text": [
            "tensor([[[1.6304e-35, 0.0000e+00, 3.3631e-44],\n",
            "         [0.0000e+00,        nan, 1.3312e-43]],\n",
            "\n",
            "        [[4.4721e+21, 1.5956e+25, 4.7399e+16],\n",
            "         [3.7293e-08, 8.0101e+00, 5.5095e+11]]])\n",
            "torch.Size([2, 2, 3])\n"
          ]
        }
      ]
    },
    {
      "cell_type": "code",
      "source": [
        "ones_like_x = torch.ones_like(x)\n",
        "print(ones_like_x)\n",
        "print(ones_like_x.shape)"
      ],
      "metadata": {
        "colab": {
          "base_uri": "https://localhost:8080/"
        },
        "id": "xIzSSOEZr51N",
        "outputId": "87437dcb-f219-4168-bd33-66554d37f8b3"
      },
      "execution_count": 10,
      "outputs": [
        {
          "output_type": "stream",
          "name": "stdout",
          "text": [
            "tensor([[[1., 1., 1.],\n",
            "         [1., 1., 1.]],\n",
            "\n",
            "        [[1., 1., 1.],\n",
            "         [1., 1., 1.]]])\n",
            "torch.Size([2, 2, 3])\n"
          ]
        }
      ]
    },
    {
      "cell_type": "code",
      "source": [
        "rand_like_x = torch.rand_like(x)\n",
        "print(rand_like_x.shape)\n",
        "print(rand_like_x)"
      ],
      "metadata": {
        "colab": {
          "base_uri": "https://localhost:8080/"
        },
        "id": "INHO_4cnsFOd",
        "outputId": "9cb4c0f3-046f-4fa2-e4d4-9e5e18bb545f"
      },
      "execution_count": 11,
      "outputs": [
        {
          "output_type": "stream",
          "name": "stdout",
          "text": [
            "torch.Size([2, 2, 3])\n",
            "tensor([[[0.2332, 0.4047, 0.2162],\n",
            "         [0.9927, 0.4128, 0.5938]],\n",
            "\n",
            "        [[0.6128, 0.1519, 0.0453],\n",
            "         [0.5035, 0.9978, 0.3884]]])\n"
          ]
        }
      ]
    },
    {
      "cell_type": "code",
      "source": [
        "some_constants = torch.tensor([[3.1415926, 2.71828], [1.61803, 0.0072897]])\n",
        "print(some_constants)"
      ],
      "metadata": {
        "colab": {
          "base_uri": "https://localhost:8080/"
        },
        "id": "eRSdKGBvsQL1",
        "outputId": "ceede214-15b4-49b2-e93c-39f230a97978"
      },
      "execution_count": 12,
      "outputs": [
        {
          "output_type": "stream",
          "name": "stdout",
          "text": [
            "tensor([[3.1416, 2.7183],\n",
            "        [1.6180, 0.0073]])\n"
          ]
        }
      ]
    },
    {
      "cell_type": "code",
      "source": [
        "some_integers = torch.tensor((2, 3, 5, 7, 9, 11, 13, 15))\n",
        "print(some_integers)"
      ],
      "metadata": {
        "colab": {
          "base_uri": "https://localhost:8080/"
        },
        "id": "IYKVFiW_syBu",
        "outputId": "22ef17ca-e618-47bd-d31d-7e760aa6724d"
      },
      "execution_count": 13,
      "outputs": [
        {
          "output_type": "stream",
          "name": "stdout",
          "text": [
            "tensor([ 2,  3,  5,  7,  9, 11, 13, 15])\n"
          ]
        }
      ]
    },
    {
      "cell_type": "code",
      "source": [
        "more_integers = torch.tensor(((2, 4, 6), (3, 6, 9)))\n",
        "print(more_integers)"
      ],
      "metadata": {
        "colab": {
          "base_uri": "https://localhost:8080/"
        },
        "id": "q9IBwepQtF-9",
        "outputId": "c0663a0c-f512-4292-ddd9-d7f3772c9033"
      },
      "execution_count": 14,
      "outputs": [
        {
          "output_type": "stream",
          "name": "stdout",
          "text": [
            "tensor([[2, 4, 6],\n",
            "        [3, 6, 9]])\n"
          ]
        }
      ]
    },
    {
      "cell_type": "code",
      "source": [
        "few_more_integers = torch.tensor(((2, 4, 6), [3, 6, 9])) # this is interesting\n",
        "print(few_more_integers)"
      ],
      "metadata": {
        "colab": {
          "base_uri": "https://localhost:8080/"
        },
        "id": "lx25qWZntW39",
        "outputId": "7732c908-2281-40de-d1e9-4d2367a7a606"
      },
      "execution_count": 15,
      "outputs": [
        {
          "output_type": "stream",
          "name": "stdout",
          "text": [
            "tensor([[2, 4, 6],\n",
            "        [3, 6, 9]])\n"
          ]
        }
      ]
    },
    {
      "cell_type": "markdown",
      "source": [
        "Tensor Data Types"
      ],
      "metadata": {
        "id": "1R9_FLcswAXR"
      }
    },
    {
      "cell_type": "code",
      "source": [
        "a = torch.ones((2, 3), dtype = torch.int16)\n",
        "print(a)"
      ],
      "metadata": {
        "colab": {
          "base_uri": "https://localhost:8080/"
        },
        "id": "5z1ynUeKtlC1",
        "outputId": "9d2b9c41-402d-4497-9d8a-1af546c3857a"
      },
      "execution_count": 16,
      "outputs": [
        {
          "output_type": "stream",
          "name": "stdout",
          "text": [
            "tensor([[1, 1, 1],\n",
            "        [1, 1, 1]], dtype=torch.int16)\n"
          ]
        }
      ]
    },
    {
      "cell_type": "code",
      "source": [
        "b = torch.rand((2, 3), dtype = torch.float64) * 20.\n",
        "print(b)"
      ],
      "metadata": {
        "colab": {
          "base_uri": "https://localhost:8080/"
        },
        "id": "W79nkr1XwNf2",
        "outputId": "c8a7ff31-7b84-4f98-f280-03d72dab3c67"
      },
      "execution_count": 20,
      "outputs": [
        {
          "output_type": "stream",
          "name": "stdout",
          "text": [
            "tensor([[17.7174, 14.2091, 18.9694],\n",
            "        [15.5129,  1.7932, 13.2545]], dtype=torch.float64)\n"
          ]
        }
      ]
    },
    {
      "cell_type": "code",
      "source": [
        "c = b.to(torch.int32)\n",
        "print(c)"
      ],
      "metadata": {
        "colab": {
          "base_uri": "https://localhost:8080/"
        },
        "id": "vFxpg8eCwYld",
        "outputId": "658cf7bc-a7a8-4993-9eb4-77d44a0f75a5"
      },
      "execution_count": 21,
      "outputs": [
        {
          "output_type": "stream",
          "name": "stdout",
          "text": [
            "tensor([[17, 14, 18],\n",
            "        [15,  1, 13]], dtype=torch.int32)\n"
          ]
        }
      ]
    },
    {
      "cell_type": "markdown",
      "source": [
        "Math and Logic with PyTorch Tensors"
      ],
      "metadata": {
        "id": "zy8KTUhCw_DO"
      }
    },
    {
      "cell_type": "code",
      "source": [
        "ones = torch.zeros(2, 2) + 1\n",
        "twos = torch.ones(2, 2) * 2\n",
        "threes = (torch.ones(2, 2) * 7 - 1) / 2\n",
        "fours = twos ** 2\n",
        "sqrt2s = twos ** 0.5"
      ],
      "metadata": {
        "id": "jCH3wRGmwoOU"
      },
      "execution_count": 22,
      "outputs": []
    },
    {
      "cell_type": "code",
      "source": [
        "print(ones)\n",
        "print(twos)\n",
        "print(threes)\n",
        "print(fours)\n",
        "print(sqrt2s)"
      ],
      "metadata": {
        "colab": {
          "base_uri": "https://localhost:8080/"
        },
        "id": "b2CYfA_SxsOu",
        "outputId": "4d822306-3825-4050-9826-8d85f852c1da"
      },
      "execution_count": 23,
      "outputs": [
        {
          "output_type": "stream",
          "name": "stdout",
          "text": [
            "tensor([[1., 1.],\n",
            "        [1., 1.]])\n",
            "tensor([[2., 2.],\n",
            "        [2., 2.]])\n",
            "tensor([[3., 3.],\n",
            "        [3., 3.]])\n",
            "tensor([[4., 4.],\n",
            "        [4., 4.]])\n",
            "tensor([[1.4142, 1.4142],\n",
            "        [1.4142, 1.4142]])\n"
          ]
        }
      ]
    },
    {
      "cell_type": "code",
      "source": [
        "powers2 = twos ** torch.tensor([[1, 2], [3, 4]])\n",
        "\n",
        "fives = ones + fours\n",
        "\n",
        "dozens = threes * fours"
      ],
      "metadata": {
        "id": "Fzti837Dx1bU"
      },
      "execution_count": 24,
      "outputs": []
    },
    {
      "cell_type": "code",
      "source": [
        "print(powers2)"
      ],
      "metadata": {
        "colab": {
          "base_uri": "https://localhost:8080/"
        },
        "id": "0lF1j48tzDU-",
        "outputId": "8f7c3224-6ecd-4a3c-a385-abfd46730194"
      },
      "execution_count": 25,
      "outputs": [
        {
          "output_type": "stream",
          "name": "stdout",
          "text": [
            "tensor([[ 2.,  4.],\n",
            "        [ 8., 16.]])\n"
          ]
        }
      ]
    },
    {
      "cell_type": "code",
      "source": [
        "print(fives)"
      ],
      "metadata": {
        "colab": {
          "base_uri": "https://localhost:8080/"
        },
        "id": "hBlOODhhzF4M",
        "outputId": "f0092897-b2b3-4399-f4b0-1cf8b4096707"
      },
      "execution_count": 26,
      "outputs": [
        {
          "output_type": "stream",
          "name": "stdout",
          "text": [
            "tensor([[5., 5.],\n",
            "        [5., 5.]])\n"
          ]
        }
      ]
    },
    {
      "cell_type": "code",
      "source": [
        "print(dozens)"
      ],
      "metadata": {
        "colab": {
          "base_uri": "https://localhost:8080/"
        },
        "id": "d1JSMTSizMIc",
        "outputId": "b3382fe3-d460-4598-cc54-244915c533a1"
      },
      "execution_count": 27,
      "outputs": [
        {
          "output_type": "stream",
          "name": "stdout",
          "text": [
            "tensor([[12., 12.],\n",
            "        [12., 12.]])\n"
          ]
        }
      ]
    },
    {
      "cell_type": "markdown",
      "source": [
        "Tensor Broadcasting\n",
        "\n",
        "* Dimensions must match last to first\n",
        "* One of the dimensions should match\n",
        "* Can't broadcast with empty tensors"
      ],
      "metadata": {
        "id": "-ULqehrR1G1r"
      }
    },
    {
      "cell_type": "code",
      "source": [
        "rand = torch.rand(2, 4)\n",
        "print(rand)"
      ],
      "metadata": {
        "colab": {
          "base_uri": "https://localhost:8080/"
        },
        "id": "iRJGmTVTzUnE",
        "outputId": "31932810-39eb-411a-8557-0d4bbe6cee85"
      },
      "execution_count": 28,
      "outputs": [
        {
          "output_type": "stream",
          "name": "stdout",
          "text": [
            "tensor([[0.2941, 0.3788, 0.4567, 0.0649],\n",
            "        [0.6677, 0.7826, 0.1332, 0.0023]])\n"
          ]
        }
      ]
    },
    {
      "cell_type": "code",
      "source": [
        "new_twos = torch.ones(1, 4) * 2\n",
        "print(new_twos)"
      ],
      "metadata": {
        "colab": {
          "base_uri": "https://localhost:8080/"
        },
        "id": "NIfXfDpB1PnF",
        "outputId": "b2c52c6f-7d56-4b3c-8ddb-fda27a841a29"
      },
      "execution_count": 31,
      "outputs": [
        {
          "output_type": "stream",
          "name": "stdout",
          "text": [
            "tensor([[2., 2., 2., 2.]])\n"
          ]
        }
      ]
    },
    {
      "cell_type": "code",
      "source": [
        "doubled = rand * new_twos\n",
        "print(doubled)"
      ],
      "metadata": {
        "colab": {
          "base_uri": "https://localhost:8080/"
        },
        "id": "nfm_MLKO2O8D",
        "outputId": "dd0855cb-02df-4210-bc42-1f78c66365bd"
      },
      "execution_count": 32,
      "outputs": [
        {
          "output_type": "stream",
          "name": "stdout",
          "text": [
            "tensor([[0.5882, 0.7576, 0.9134, 0.1298],\n",
            "        [1.3355, 1.5652, 0.2663, 0.0045]])\n"
          ]
        }
      ]
    },
    {
      "cell_type": "code",
      "source": [
        "a = torch.ones(4, 3, 2)\n",
        "print(a)"
      ],
      "metadata": {
        "colab": {
          "base_uri": "https://localhost:8080/"
        },
        "id": "chIradWj2meT",
        "outputId": "3147c6d2-d859-4522-f0c2-c4783b9d46b7"
      },
      "execution_count": 33,
      "outputs": [
        {
          "output_type": "stream",
          "name": "stdout",
          "text": [
            "tensor([[[1., 1.],\n",
            "         [1., 1.],\n",
            "         [1., 1.]],\n",
            "\n",
            "        [[1., 1.],\n",
            "         [1., 1.],\n",
            "         [1., 1.]],\n",
            "\n",
            "        [[1., 1.],\n",
            "         [1., 1.],\n",
            "         [1., 1.]],\n",
            "\n",
            "        [[1., 1.],\n",
            "         [1., 1.],\n",
            "         [1., 1.]]])\n"
          ]
        }
      ]
    },
    {
      "cell_type": "code",
      "source": [
        "b = a * torch.rand(3, 2) # dim 1 is absent, 3rd and 2nd dims are identical\n",
        "print(b)"
      ],
      "metadata": {
        "colab": {
          "base_uri": "https://localhost:8080/"
        },
        "id": "400elx7f32vb",
        "outputId": "7834a07b-bd63-4beb-f954-113c0303d56f"
      },
      "execution_count": 34,
      "outputs": [
        {
          "output_type": "stream",
          "name": "stdout",
          "text": [
            "tensor([[[0.4945, 0.3857],\n",
            "         [0.9883, 0.4762],\n",
            "         [0.7242, 0.0776]],\n",
            "\n",
            "        [[0.4945, 0.3857],\n",
            "         [0.9883, 0.4762],\n",
            "         [0.7242, 0.0776]],\n",
            "\n",
            "        [[0.4945, 0.3857],\n",
            "         [0.9883, 0.4762],\n",
            "         [0.7242, 0.0776]],\n",
            "\n",
            "        [[0.4945, 0.3857],\n",
            "         [0.9883, 0.4762],\n",
            "         [0.7242, 0.0776]]])\n"
          ]
        }
      ]
    },
    {
      "cell_type": "code",
      "source": [
        "c = a * torch.rand(3, 1) # dim 1 is absent, 2nd dim is identical and 3rd dim is different\n",
        "print(c)"
      ],
      "metadata": {
        "colab": {
          "base_uri": "https://localhost:8080/"
        },
        "id": "krOoSifD4Ghb",
        "outputId": "e946cc8a-db4b-4f14-a090-699f7826f77e"
      },
      "execution_count": 35,
      "outputs": [
        {
          "output_type": "stream",
          "name": "stdout",
          "text": [
            "tensor([[[0.4004, 0.4004],\n",
            "         [0.9877, 0.9877],\n",
            "         [0.0352, 0.0352]],\n",
            "\n",
            "        [[0.4004, 0.4004],\n",
            "         [0.9877, 0.9877],\n",
            "         [0.0352, 0.0352]],\n",
            "\n",
            "        [[0.4004, 0.4004],\n",
            "         [0.9877, 0.9877],\n",
            "         [0.0352, 0.0352]],\n",
            "\n",
            "        [[0.4004, 0.4004],\n",
            "         [0.9877, 0.9877],\n",
            "         [0.0352, 0.0352]]])\n"
          ]
        }
      ]
    },
    {
      "cell_type": "code",
      "source": [
        "d = a * torch.rand(1, 2) # dim 1 is absent, 2nd dimension is different and 3rd dim is identical\n",
        "print(d)"
      ],
      "metadata": {
        "colab": {
          "base_uri": "https://localhost:8080/"
        },
        "id": "8o4oyxbW4gSu",
        "outputId": "341bab0e-37ea-4d95-c24c-7d8db0383fec"
      },
      "execution_count": 36,
      "outputs": [
        {
          "output_type": "stream",
          "name": "stdout",
          "text": [
            "tensor([[[0.0905, 0.4485],\n",
            "         [0.0905, 0.4485],\n",
            "         [0.0905, 0.4485]],\n",
            "\n",
            "        [[0.0905, 0.4485],\n",
            "         [0.0905, 0.4485],\n",
            "         [0.0905, 0.4485]],\n",
            "\n",
            "        [[0.0905, 0.4485],\n",
            "         [0.0905, 0.4485],\n",
            "         [0.0905, 0.4485]],\n",
            "\n",
            "        [[0.0905, 0.4485],\n",
            "         [0.0905, 0.4485],\n",
            "         [0.0905, 0.4485]]])\n"
          ]
        }
      ]
    },
    {
      "cell_type": "markdown",
      "source": [
        "Math Operations"
      ],
      "metadata": {
        "id": "lclYE2lX7CNS"
      }
    },
    {
      "cell_type": "code",
      "source": [
        "# common fucntions -\n",
        "a = torch.rand(2, 4) * 2 - 1\n",
        "print(a)\n",
        "print(torch.abs(a))\n",
        "print(torch.ceil(a))\n",
        "print(torch.floor(a))\n",
        "print(torch.clamp(a, -0.5, 0.5)) # Clamps all elements in input into the range [ min, max ]."
      ],
      "metadata": {
        "colab": {
          "base_uri": "https://localhost:8080/"
        },
        "id": "0HwTTRJ35sRV",
        "outputId": "c39c3174-e218-42c4-f9a2-5e3ebe3d07b2"
      },
      "execution_count": 38,
      "outputs": [
        {
          "output_type": "stream",
          "name": "stdout",
          "text": [
            "tensor([[-0.2010,  0.2648,  0.8928, -0.9773],\n",
            "        [ 0.0365,  0.9614,  0.3090, -0.1713]])\n",
            "tensor([[0.2010, 0.2648, 0.8928, 0.9773],\n",
            "        [0.0365, 0.9614, 0.3090, 0.1713]])\n",
            "tensor([[-0., 1., 1., -0.],\n",
            "        [1., 1., 1., -0.]])\n",
            "tensor([[-1.,  0.,  0., -1.],\n",
            "        [ 0.,  0.,  0., -1.]])\n",
            "tensor([[-0.2010,  0.2648,  0.5000, -0.5000],\n",
            "        [ 0.0365,  0.5000,  0.3090, -0.1713]])\n"
          ]
        }
      ]
    },
    {
      "cell_type": "code",
      "source": [
        "# Trigonometric functions\n",
        "angles = torch.tensor([0, math.pi / 4, math.pi / 2, 3 * math.pi / 4])\n",
        "sines = torch.sin(angles)\n",
        "inverses = torch.asin(sines)\n",
        "print('\\n Sine and arcsine: ')\n",
        "print(angles)\n",
        "print(sines)\n",
        "print(inverses)"
      ],
      "metadata": {
        "colab": {
          "base_uri": "https://localhost:8080/"
        },
        "id": "jAqJStxk8aNH",
        "outputId": "5ef1756e-a26c-4a60-d8b0-722945efa4b7"
      },
      "execution_count": 39,
      "outputs": [
        {
          "output_type": "stream",
          "name": "stdout",
          "text": [
            "\n",
            " Sine and arcsine: \n",
            "tensor([0.0000, 0.7854, 1.5708, 2.3562])\n",
            "tensor([0.0000, 0.7071, 1.0000, 0.7071])\n",
            "tensor([0.0000, 0.7854, 1.5708, 0.7854])\n"
          ]
        }
      ]
    },
    {
      "cell_type": "code",
      "source": [
        "# Bitwise Operations\n",
        "print('\\n Bitwise XOR: ')\n",
        "b = torch.tensor([1, 5, 11])\n",
        "c = torch.tensor([2, 7, 10])\n",
        "print(torch.bitwise_xor(b, c))"
      ],
      "metadata": {
        "colab": {
          "base_uri": "https://localhost:8080/"
        },
        "id": "SaywYMvd-CcV",
        "outputId": "33d98b08-a62e-4f63-a251-7cc71906768d"
      },
      "execution_count": 40,
      "outputs": [
        {
          "output_type": "stream",
          "name": "stdout",
          "text": [
            "\n",
            " Bitwise XOR: \n",
            "tensor([3, 2, 1])\n"
          ]
        }
      ]
    },
    {
      "cell_type": "code",
      "source": [
        "print(b)\n",
        "print(c)"
      ],
      "metadata": {
        "colab": {
          "base_uri": "https://localhost:8080/"
        },
        "id": "JjXoS-X-_Obk",
        "outputId": "9dfc2fd7-d2ef-45f3-83db-79622b10525c"
      },
      "execution_count": 41,
      "outputs": [
        {
          "output_type": "stream",
          "name": "stdout",
          "text": [
            "tensor([ 1,  5, 11])\n",
            "tensor([ 2,  7, 10])\n"
          ]
        }
      ]
    },
    {
      "cell_type": "code",
      "source": [
        "# comparisons -\n",
        "print('\\n Broadcasted, element-wise equality comparison: ')\n",
        "d = torch.tensor([[1., 2.], [1., 4.]])\n",
        "e = torch.ones(1, 2)\n",
        "print(d)\n",
        "print(e)"
      ],
      "metadata": {
        "colab": {
          "base_uri": "https://localhost:8080/"
        },
        "id": "DKhgnTUR_STi",
        "outputId": "864f4a2a-100e-4d3a-ebec-26aa9de6bd1a"
      },
      "execution_count": 45,
      "outputs": [
        {
          "output_type": "stream",
          "name": "stdout",
          "text": [
            "\n",
            " Broadcasted, element-wise equality comparison: \n",
            "tensor([[1., 2.],\n",
            "        [1., 4.]])\n",
            "tensor([[1., 1.]])\n"
          ]
        }
      ]
    },
    {
      "cell_type": "code",
      "source": [
        "print(torch.eq(d, e)) # it does it element-wise"
      ],
      "metadata": {
        "colab": {
          "base_uri": "https://localhost:8080/"
        },
        "id": "Ng-FGD3B__Uz",
        "outputId": "7706fcab-d7fe-449c-e784-fcdd4c9a612f"
      },
      "execution_count": 46,
      "outputs": [
        {
          "output_type": "stream",
          "name": "stdout",
          "text": [
            "tensor([[ True, False],\n",
            "        [ True, False]])\n"
          ]
        }
      ]
    },
    {
      "cell_type": "code",
      "source": [
        "print(torch.ge(e, d))"
      ],
      "metadata": {
        "colab": {
          "base_uri": "https://localhost:8080/"
        },
        "id": "4sBc8VEHAIjK",
        "outputId": "d0792f8f-be9c-419b-f995-bb074cd10993"
      },
      "execution_count": 48,
      "outputs": [
        {
          "output_type": "stream",
          "name": "stdout",
          "text": [
            "tensor([[ True, False],\n",
            "        [ True, False]])\n"
          ]
        }
      ]
    },
    {
      "cell_type": "code",
      "source": [
        "# reductions\n",
        "print('\\n Reduction Ops: ')\n",
        "print(torch.max(d)) # returns a single-element tensor\n",
        "print(torch.max(d).item()) # extracts the value from the returned tensor\n",
        "print(torch.mean(d)) # average\n",
        "print(torch.std(d)) # standard deviation\n",
        "print(torch.prod(d)) # product\n",
        "print(torch.unique(torch.tensor([1, 2, 1, 2, 1, 2]))) # filter unique elements"
      ],
      "metadata": {
        "colab": {
          "base_uri": "https://localhost:8080/"
        },
        "id": "XwFpO3pvAXUq",
        "outputId": "a5f70007-3476-41f8-f2cc-edc1004064ea"
      },
      "execution_count": 52,
      "outputs": [
        {
          "output_type": "stream",
          "name": "stdout",
          "text": [
            "\n",
            " Reduction Ops: \n",
            "tensor(4.)\n",
            "4.0\n",
            "tensor(2.)\n",
            "tensor(1.4142)\n",
            "tensor(8.)\n",
            "tensor([1, 2])\n"
          ]
        }
      ]
    },
    {
      "cell_type": "code",
      "source": [
        "# vector and linear algebra operations\n",
        "v1 = torch.tensor([1., 0., 0.]) # x unit vector\n",
        "v2 = torch.tensor([0., 1., 0.]) # y unit vector\n",
        "m1 = torch.rand(2, 2) # random matrix\n",
        "m2 = torch.tensor([[3., 0.], [0., 3.]]) # three times identity matrix"
      ],
      "metadata": {
        "id": "e_innsnTA_M6"
      },
      "execution_count": 62,
      "outputs": []
    },
    {
      "cell_type": "code",
      "source": [
        "print(v1)\n",
        "print(v2)\n",
        "print(m1)\n",
        "print(m2)"
      ],
      "metadata": {
        "colab": {
          "base_uri": "https://localhost:8080/"
        },
        "id": "mQdGeeDeC1DL",
        "outputId": "c504e23c-984d-4d3f-9fe3-4c42f96db6b9"
      },
      "execution_count": 63,
      "outputs": [
        {
          "output_type": "stream",
          "name": "stdout",
          "text": [
            "tensor([1., 0., 0.])\n",
            "tensor([0., 1., 0.])\n",
            "tensor([[0.0065, 0.7765],\n",
            "        [0.3534, 0.7016]])\n",
            "tensor([[3., 0.],\n",
            "        [0., 3.]])\n"
          ]
        }
      ]
    },
    {
      "cell_type": "code",
      "source": [
        "print(torch.cross(v2, v1))"
      ],
      "metadata": {
        "colab": {
          "base_uri": "https://localhost:8080/"
        },
        "id": "TQmjak-oC7by",
        "outputId": "7ec08f4c-31d0-49bd-dbda-63711b172d7b"
      },
      "execution_count": 64,
      "outputs": [
        {
          "output_type": "stream",
          "name": "stdout",
          "text": [
            "tensor([ 0.,  0., -1.])\n"
          ]
        }
      ]
    },
    {
      "cell_type": "code",
      "source": [
        "m3 = torch.matmul(m1, m2)\n",
        "print(m3)"
      ],
      "metadata": {
        "colab": {
          "base_uri": "https://localhost:8080/"
        },
        "id": "3hJsSLmaDJU6",
        "outputId": "9f1c14e0-8bd6-492f-f803-2d34f94875b0"
      },
      "execution_count": 65,
      "outputs": [
        {
          "output_type": "stream",
          "name": "stdout",
          "text": [
            "tensor([[0.0196, 2.3296],\n",
            "        [1.0602, 2.1048]])\n"
          ]
        }
      ]
    },
    {
      "cell_type": "code",
      "source": [
        "print(torch.svd(m3))"
      ],
      "metadata": {
        "colab": {
          "base_uri": "https://localhost:8080/"
        },
        "id": "AZuhcU4mEq3q",
        "outputId": "5c2b5e9d-04ae-406d-ecde-43a68431d66f"
      },
      "execution_count": 66,
      "outputs": [
        {
          "output_type": "stream",
          "name": "stdout",
          "text": [
            "torch.return_types.svd(\n",
            "U=tensor([[-0.7025, -0.7117],\n",
            "        [-0.7117,  0.7025]]),\n",
            "S=tensor([3.2273, 0.7525]),\n",
            "V=tensor([[-0.2381,  0.9712],\n",
            "        [-0.9712, -0.2381]]))\n"
          ]
        }
      ]
    },
    {
      "cell_type": "code",
      "source": [],
      "metadata": {
        "id": "7Hm_wQMxEvcS"
      },
      "execution_count": null,
      "outputs": []
    }
  ]
}