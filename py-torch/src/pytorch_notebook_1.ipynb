{
  "nbformat": 4,
  "nbformat_minor": 0,
  "metadata": {
    "colab": {
      "provenance": []
    },
    "kernelspec": {
      "name": "python3",
      "display_name": "Python 3"
    },
    "language_info": {
      "name": "python"
    },
    "accelerator": "GPU",
    "gpuClass": "standard",
    "widgets": {
      "application/vnd.jupyter.widget-state+json": {
        "bc914d8c166f43bdac9a300ccca1d3f6": {
          "model_module": "@jupyter-widgets/controls",
          "model_name": "HBoxModel",
          "model_module_version": "1.5.0",
          "state": {
            "_dom_classes": [],
            "_model_module": "@jupyter-widgets/controls",
            "_model_module_version": "1.5.0",
            "_model_name": "HBoxModel",
            "_view_count": null,
            "_view_module": "@jupyter-widgets/controls",
            "_view_module_version": "1.5.0",
            "_view_name": "HBoxView",
            "box_style": "",
            "children": [
              "IPY_MODEL_7b460eabf8bc48009e0fa4e99a80d25e",
              "IPY_MODEL_a427f057a857484b9c75b648a2adb643",
              "IPY_MODEL_c20eaf99f4194b1691eb632d667510fa"
            ],
            "layout": "IPY_MODEL_9b3b37c8474e40f6aecc1a510ed10956"
          }
        },
        "7b460eabf8bc48009e0fa4e99a80d25e": {
          "model_module": "@jupyter-widgets/controls",
          "model_name": "HTMLModel",
          "model_module_version": "1.5.0",
          "state": {
            "_dom_classes": [],
            "_model_module": "@jupyter-widgets/controls",
            "_model_module_version": "1.5.0",
            "_model_name": "HTMLModel",
            "_view_count": null,
            "_view_module": "@jupyter-widgets/controls",
            "_view_module_version": "1.5.0",
            "_view_name": "HTMLView",
            "description": "",
            "description_tooltip": null,
            "layout": "IPY_MODEL_c036e3207b934b03836f7df47d9135f3",
            "placeholder": "​",
            "style": "IPY_MODEL_da45e79f2dfd4c08bcbde96f56b581c2",
            "value": "100%"
          }
        },
        "a427f057a857484b9c75b648a2adb643": {
          "model_module": "@jupyter-widgets/controls",
          "model_name": "FloatProgressModel",
          "model_module_version": "1.5.0",
          "state": {
            "_dom_classes": [],
            "_model_module": "@jupyter-widgets/controls",
            "_model_module_version": "1.5.0",
            "_model_name": "FloatProgressModel",
            "_view_count": null,
            "_view_module": "@jupyter-widgets/controls",
            "_view_module_version": "1.5.0",
            "_view_name": "ProgressView",
            "bar_style": "success",
            "description": "",
            "description_tooltip": null,
            "layout": "IPY_MODEL_97ac26619bf54617ac4b28801eb0eadc",
            "max": 170498071,
            "min": 0,
            "orientation": "horizontal",
            "style": "IPY_MODEL_8058a32c3d984fbb9fb13b58c996a945",
            "value": 170498071
          }
        },
        "c20eaf99f4194b1691eb632d667510fa": {
          "model_module": "@jupyter-widgets/controls",
          "model_name": "HTMLModel",
          "model_module_version": "1.5.0",
          "state": {
            "_dom_classes": [],
            "_model_module": "@jupyter-widgets/controls",
            "_model_module_version": "1.5.0",
            "_model_name": "HTMLModel",
            "_view_count": null,
            "_view_module": "@jupyter-widgets/controls",
            "_view_module_version": "1.5.0",
            "_view_name": "HTMLView",
            "description": "",
            "description_tooltip": null,
            "layout": "IPY_MODEL_f0b97361332742d394aaf693b498bda8",
            "placeholder": "​",
            "style": "IPY_MODEL_ccf8a54fef044604b1281b32f569139e",
            "value": " 170498071/170498071 [00:01&lt;00:00, 91521614.21it/s]"
          }
        },
        "9b3b37c8474e40f6aecc1a510ed10956": {
          "model_module": "@jupyter-widgets/base",
          "model_name": "LayoutModel",
          "model_module_version": "1.2.0",
          "state": {
            "_model_module": "@jupyter-widgets/base",
            "_model_module_version": "1.2.0",
            "_model_name": "LayoutModel",
            "_view_count": null,
            "_view_module": "@jupyter-widgets/base",
            "_view_module_version": "1.2.0",
            "_view_name": "LayoutView",
            "align_content": null,
            "align_items": null,
            "align_self": null,
            "border": null,
            "bottom": null,
            "display": null,
            "flex": null,
            "flex_flow": null,
            "grid_area": null,
            "grid_auto_columns": null,
            "grid_auto_flow": null,
            "grid_auto_rows": null,
            "grid_column": null,
            "grid_gap": null,
            "grid_row": null,
            "grid_template_areas": null,
            "grid_template_columns": null,
            "grid_template_rows": null,
            "height": null,
            "justify_content": null,
            "justify_items": null,
            "left": null,
            "margin": null,
            "max_height": null,
            "max_width": null,
            "min_height": null,
            "min_width": null,
            "object_fit": null,
            "object_position": null,
            "order": null,
            "overflow": null,
            "overflow_x": null,
            "overflow_y": null,
            "padding": null,
            "right": null,
            "top": null,
            "visibility": null,
            "width": null
          }
        },
        "c036e3207b934b03836f7df47d9135f3": {
          "model_module": "@jupyter-widgets/base",
          "model_name": "LayoutModel",
          "model_module_version": "1.2.0",
          "state": {
            "_model_module": "@jupyter-widgets/base",
            "_model_module_version": "1.2.0",
            "_model_name": "LayoutModel",
            "_view_count": null,
            "_view_module": "@jupyter-widgets/base",
            "_view_module_version": "1.2.0",
            "_view_name": "LayoutView",
            "align_content": null,
            "align_items": null,
            "align_self": null,
            "border": null,
            "bottom": null,
            "display": null,
            "flex": null,
            "flex_flow": null,
            "grid_area": null,
            "grid_auto_columns": null,
            "grid_auto_flow": null,
            "grid_auto_rows": null,
            "grid_column": null,
            "grid_gap": null,
            "grid_row": null,
            "grid_template_areas": null,
            "grid_template_columns": null,
            "grid_template_rows": null,
            "height": null,
            "justify_content": null,
            "justify_items": null,
            "left": null,
            "margin": null,
            "max_height": null,
            "max_width": null,
            "min_height": null,
            "min_width": null,
            "object_fit": null,
            "object_position": null,
            "order": null,
            "overflow": null,
            "overflow_x": null,
            "overflow_y": null,
            "padding": null,
            "right": null,
            "top": null,
            "visibility": null,
            "width": null
          }
        },
        "da45e79f2dfd4c08bcbde96f56b581c2": {
          "model_module": "@jupyter-widgets/controls",
          "model_name": "DescriptionStyleModel",
          "model_module_version": "1.5.0",
          "state": {
            "_model_module": "@jupyter-widgets/controls",
            "_model_module_version": "1.5.0",
            "_model_name": "DescriptionStyleModel",
            "_view_count": null,
            "_view_module": "@jupyter-widgets/base",
            "_view_module_version": "1.2.0",
            "_view_name": "StyleView",
            "description_width": ""
          }
        },
        "97ac26619bf54617ac4b28801eb0eadc": {
          "model_module": "@jupyter-widgets/base",
          "model_name": "LayoutModel",
          "model_module_version": "1.2.0",
          "state": {
            "_model_module": "@jupyter-widgets/base",
            "_model_module_version": "1.2.0",
            "_model_name": "LayoutModel",
            "_view_count": null,
            "_view_module": "@jupyter-widgets/base",
            "_view_module_version": "1.2.0",
            "_view_name": "LayoutView",
            "align_content": null,
            "align_items": null,
            "align_self": null,
            "border": null,
            "bottom": null,
            "display": null,
            "flex": null,
            "flex_flow": null,
            "grid_area": null,
            "grid_auto_columns": null,
            "grid_auto_flow": null,
            "grid_auto_rows": null,
            "grid_column": null,
            "grid_gap": null,
            "grid_row": null,
            "grid_template_areas": null,
            "grid_template_columns": null,
            "grid_template_rows": null,
            "height": null,
            "justify_content": null,
            "justify_items": null,
            "left": null,
            "margin": null,
            "max_height": null,
            "max_width": null,
            "min_height": null,
            "min_width": null,
            "object_fit": null,
            "object_position": null,
            "order": null,
            "overflow": null,
            "overflow_x": null,
            "overflow_y": null,
            "padding": null,
            "right": null,
            "top": null,
            "visibility": null,
            "width": null
          }
        },
        "8058a32c3d984fbb9fb13b58c996a945": {
          "model_module": "@jupyter-widgets/controls",
          "model_name": "ProgressStyleModel",
          "model_module_version": "1.5.0",
          "state": {
            "_model_module": "@jupyter-widgets/controls",
            "_model_module_version": "1.5.0",
            "_model_name": "ProgressStyleModel",
            "_view_count": null,
            "_view_module": "@jupyter-widgets/base",
            "_view_module_version": "1.2.0",
            "_view_name": "StyleView",
            "bar_color": null,
            "description_width": ""
          }
        },
        "f0b97361332742d394aaf693b498bda8": {
          "model_module": "@jupyter-widgets/base",
          "model_name": "LayoutModel",
          "model_module_version": "1.2.0",
          "state": {
            "_model_module": "@jupyter-widgets/base",
            "_model_module_version": "1.2.0",
            "_model_name": "LayoutModel",
            "_view_count": null,
            "_view_module": "@jupyter-widgets/base",
            "_view_module_version": "1.2.0",
            "_view_name": "LayoutView",
            "align_content": null,
            "align_items": null,
            "align_self": null,
            "border": null,
            "bottom": null,
            "display": null,
            "flex": null,
            "flex_flow": null,
            "grid_area": null,
            "grid_auto_columns": null,
            "grid_auto_flow": null,
            "grid_auto_rows": null,
            "grid_column": null,
            "grid_gap": null,
            "grid_row": null,
            "grid_template_areas": null,
            "grid_template_columns": null,
            "grid_template_rows": null,
            "height": null,
            "justify_content": null,
            "justify_items": null,
            "left": null,
            "margin": null,
            "max_height": null,
            "max_width": null,
            "min_height": null,
            "min_width": null,
            "object_fit": null,
            "object_position": null,
            "order": null,
            "overflow": null,
            "overflow_x": null,
            "overflow_y": null,
            "padding": null,
            "right": null,
            "top": null,
            "visibility": null,
            "width": null
          }
        },
        "ccf8a54fef044604b1281b32f569139e": {
          "model_module": "@jupyter-widgets/controls",
          "model_name": "DescriptionStyleModel",
          "model_module_version": "1.5.0",
          "state": {
            "_model_module": "@jupyter-widgets/controls",
            "_model_module_version": "1.5.0",
            "_model_name": "DescriptionStyleModel",
            "_view_count": null,
            "_view_module": "@jupyter-widgets/base",
            "_view_module_version": "1.2.0",
            "_view_name": "StyleView",
            "description_width": ""
          }
        }
      }
    }
  },
  "cells": [
    {
      "cell_type": "markdown",
      "source": [
        "### Tensor Manipulation"
      ],
      "metadata": {
        "id": "ZjSIK7BOZDq9"
      }
    },
    {
      "cell_type": "code",
      "execution_count": 1,
      "metadata": {
        "id": "2mvGT7gzY4Re"
      },
      "outputs": [],
      "source": [
        "import torch"
      ]
    },
    {
      "cell_type": "code",
      "source": [
        "# Create a two-dimensional tensor\n",
        "\n",
        "z = torch.zeros(5, 3)\n",
        "print(z)\n",
        "print(z.type)"
      ],
      "metadata": {
        "colab": {
          "base_uri": "https://localhost:8080/"
        },
        "id": "-BtU8lTAZNTi",
        "outputId": "7f97f6de-a810-4fbf-eecd-e08cc5c65d25"
      },
      "execution_count": 2,
      "outputs": [
        {
          "output_type": "stream",
          "name": "stdout",
          "text": [
            "tensor([[0., 0., 0.],\n",
            "        [0., 0., 0.],\n",
            "        [0., 0., 0.],\n",
            "        [0., 0., 0.],\n",
            "        [0., 0., 0.]])\n",
            "<built-in method type of Tensor object at 0x7f98f18b1fb0>\n"
          ]
        }
      ]
    },
    {
      "cell_type": "markdown",
      "source": [
        "Here we got a 5x3 matrix filled with zeros and are 32-bit floating point numbers which is default in PyTorch.\n",
        "\n",
        "If we convert them to 16-bit integers, you do the following -"
      ],
      "metadata": {
        "id": "dNmDZdeyZexO"
      }
    },
    {
      "cell_type": "code",
      "source": [
        "i = torch.ones((5, 3), dtype = torch.int16)\n",
        "print(i)"
      ],
      "metadata": {
        "colab": {
          "base_uri": "https://localhost:8080/"
        },
        "id": "YaQkWGqxZaMq",
        "outputId": "e3488bc1-1296-4f32-89f6-c369416218dc"
      },
      "execution_count": 3,
      "outputs": [
        {
          "output_type": "stream",
          "name": "stdout",
          "text": [
            "tensor([[1, 1, 1],\n",
            "        [1, 1, 1],\n",
            "        [1, 1, 1],\n",
            "        [1, 1, 1],\n",
            "        [1, 1, 1]], dtype=torch.int16)\n"
          ]
        }
      ]
    },
    {
      "cell_type": "markdown",
      "source": [
        "Seeding and generating the random tensors. They are used for initializing the weights."
      ],
      "metadata": {
        "id": "7w8kpO2AaTtb"
      }
    },
    {
      "cell_type": "code",
      "source": [
        "torch.manual_seed(1729)\n",
        "r1 = torch.rand(2, 2)\n",
        "print(\"A random tensor: \")\n",
        "print(r1)\n",
        "\n",
        "r2 = torch.rand(2, 2)\n",
        "print('\\n A different random tensor: ')\n",
        "print(r2)\n",
        "\n",
        "torch.manual_seed(1729)\n",
        "r3 = torch.rand(2, 2)\n",
        "print(\"\\n Should match r1: \")\n",
        "print(r3)"
      ],
      "metadata": {
        "colab": {
          "base_uri": "https://localhost:8080/"
        },
        "id": "3jErnssUaJFz",
        "outputId": "1a621e3a-0555-4ba8-aaef-5d772685d1eb"
      },
      "execution_count": 4,
      "outputs": [
        {
          "output_type": "stream",
          "name": "stdout",
          "text": [
            "A random tensor: \n",
            "tensor([[0.3126, 0.3791],\n",
            "        [0.3087, 0.0736]])\n",
            "\n",
            " A different random tensor: \n",
            "tensor([[0.4216, 0.0691],\n",
            "        [0.2332, 0.4047]])\n",
            "\n",
            " Should match r1: \n",
            "tensor([[0.3126, 0.3791],\n",
            "        [0.3087, 0.0736]])\n"
          ]
        }
      ]
    },
    {
      "cell_type": "markdown",
      "source": [
        "Arithmetic operations over tensor"
      ],
      "metadata": {
        "id": "4HV0fkgVboWp"
      }
    },
    {
      "cell_type": "code",
      "source": [
        "ones = torch.ones(2, 3)\n",
        "print('\\n', ones)\n",
        "\n",
        "twos = torch.ones(2, 3) * 2\n",
        "print('\\n', twos)\n",
        "\n",
        "threes = ones + twos\n",
        "print('\\n', threes)"
      ],
      "metadata": {
        "colab": {
          "base_uri": "https://localhost:8080/"
        },
        "id": "keIpEMwBbIy8",
        "outputId": "ba40defb-23cb-44cc-ae0f-444985edae6c"
      },
      "execution_count": 5,
      "outputs": [
        {
          "output_type": "stream",
          "name": "stdout",
          "text": [
            "\n",
            " tensor([[1., 1., 1.],\n",
            "        [1., 1., 1.]])\n",
            "\n",
            " tensor([[2., 2., 2.],\n",
            "        [2., 2., 2.]])\n",
            "\n",
            " tensor([[3., 3., 3.],\n",
            "        [3., 3., 3.]])\n"
          ]
        }
      ]
    },
    {
      "cell_type": "code",
      "source": [
        "# Creating a random tensor between -1 and 1 -\n",
        "r = torch.rand(2, 2) - 0.5 * 2\n",
        "print(r)\n",
        "\n",
        "# common mathematical operations \n",
        "print('\\n Absolute value of r: ')\n",
        "print(torch.abs(r))\n",
        "\n",
        "# trigonometric functions -\n",
        "print('\\n Inverse sine of r: ')\n",
        "print(torch.asin(r))\n",
        "\n",
        "# linear algebra operations like determinant and singular value decomposition\n",
        "print('\\n Determinant of r: ')\n",
        "print(torch.det(r))\n",
        "print('\\n Singular Value Decomposition of r: ')\n",
        "print(torch.svd(r))\n",
        "\n",
        "# statistical and aggregate functions\n",
        "print('\\n Average and Standatd Deviation of r: ')\n",
        "print(torch.std_mean(r))\n",
        "print('\\n Maximum value of r: ')\n",
        "print(torch.max(r))"
      ],
      "metadata": {
        "colab": {
          "base_uri": "https://localhost:8080/"
        },
        "id": "994pYOwPcNEK",
        "outputId": "87441eac-9261-4684-a666-a92902b5db46"
      },
      "execution_count": 6,
      "outputs": [
        {
          "output_type": "stream",
          "name": "stdout",
          "text": [
            "tensor([[-0.5784, -0.9309],\n",
            "        [-0.7668, -0.5953]])\n",
            "\n",
            " Absolute value of r: \n",
            "tensor([[0.5784, 0.9309],\n",
            "        [0.7668, 0.5953]])\n",
            "\n",
            " Inverse sine of r: \n",
            "tensor([[-0.6168, -1.1970],\n",
            "        [-0.8738, -0.6377]])\n",
            "\n",
            " Determinant of r: \n",
            "tensor(-0.3695)\n",
            "\n",
            " Singular Value Decomposition of r: \n",
            "torch.return_types.svd(\n",
            "U=tensor([[-0.7512, -0.6601],\n",
            "        [-0.6601,  0.7512]]),\n",
            "S=tensor([1.4415, 0.2563]),\n",
            "V=tensor([[ 0.6525, -0.7578],\n",
            "        [ 0.7578,  0.6525]]))\n",
            "\n",
            " Average and Standatd Deviation of r: \n",
            "(tensor(0.1656), tensor(-0.7179))\n",
            "\n",
            " Maximum value of r: \n",
            "tensor(-0.5784)\n"
          ]
        }
      ]
    },
    {
      "cell_type": "markdown",
      "source": [
        "### Autograd\n",
        "\n",
        "Automated diffrentiation engine\n",
        "\n",
        "Here the computation as a graph built at run time\n",
        "\n",
        "Let's take an example of an RNN unit where you have an input layer a hidden layer.\n",
        "\n",
        "We will see how computation as a graph is built at run time.\n"
      ],
      "metadata": {
        "id": "1yoy351Le7ot"
      }
    },
    {
      "cell_type": "code",
      "source": [
        "from IPython.display import Image\n",
        "Image('images/autograd.JPG', width = 200, height = 200)"
      ],
      "metadata": {
        "colab": {
          "base_uri": "https://localhost:8080/",
          "height": 217
        },
        "id": "b0NWDNZSeoE4",
        "outputId": "9b669b14-59b6-42d7-fc48-9c9eb43e9322"
      },
      "execution_count": 7,
      "outputs": [
        {
          "output_type": "execute_result",
          "data": {
            "image/jpeg": "[encoded data removed]",
            "text/plain": [
              "<IPython.core.display.Image object>"
            ]
          },
          "metadata": {
            "image/jpeg": {
              "width": 200,
              "height": 200
            }
          },
          "execution_count": 7
        }
      ]
    },
    {
      "cell_type": "code",
      "source": [
        "x = torch.randn(1, 10) # input nodes from the Lth layer\n",
        "print('\\n Input nodes', x.shape)\n",
        "\n",
        "prev_h = torch.randn(1, 20) # output from the previous [L-1] hidden later\n",
        "print('\\n Previous hidden layer', prev_h.shape)\n",
        "\n",
        "w_x = torch.randn(20, 10) # weights for the Lth input layer\n",
        "print('\\n Weights for the input layer', w_x.shape)\n",
        "\n",
        "w_h = torch.randn(20, 20) # weights for the L-1 hidden layer, Here 20 cols\n",
        "print('\\n Weights for the hidden layer', w_h.shape)"
      ],
      "metadata": {
        "colab": {
          "base_uri": "https://localhost:8080/"
        },
        "id": "GemCOT8Xh5zH",
        "outputId": "fe3f1b44-4dac-403d-b3dc-69f3afc9bd68"
      },
      "execution_count": 8,
      "outputs": [
        {
          "output_type": "stream",
          "name": "stdout",
          "text": [
            "\n",
            " Input nodes torch.Size([1, 10])\n",
            "\n",
            " Previous hidden layer torch.Size([1, 20])\n",
            "\n",
            " Weights for the input layer torch.Size([20, 10])\n",
            "\n",
            " Weights for the hidden layer torch.Size([20, 20])\n"
          ]
        }
      ]
    },
    {
      "cell_type": "code",
      "source": [
        "from torch.autograd.variable import Variable\n",
        "# While defining a variable we pass the parameter requires_grad which indicates if \n",
        "# the variable is trainable or not. By default, it is set to false.\n",
        "\n",
        "# Then we need to matrix multiply (mm) with the nodes and their weights\n",
        "\n",
        "i2h = torch.mm(w_x, x.t())\n",
        "h2h = torch.mm(w_h, prev_h.t())\n",
        "\n",
        "# Now we will add both the Lth layer and L-1th hidden layer to get the total signal\n",
        "\n",
        "next_h = i2h + h2h\n",
        "print('\\n next_h', next_h.shape)\n",
        "\n",
        "# now we will pass it through the activation, in this case a hyperbolic tangent\n",
        "next_h = next_h.tanh()\n",
        "print('\\n After activation : next_h', next_h.shape)\n",
        "\n",
        "# now we compute the loss for this output\n",
        "# It is the difference between the correct output and actual prediction of our model\n",
        "loss = next_h.sum()\n",
        "loss = Variable(loss, requires_grad = True)\n",
        "print('\\n Loss: ', loss)\n",
        "\n",
        "# Now we need to calculate the derivative of the loss with respect to all the \n",
        "# parameters in the model. This step is also called as Backpropagation. As there is a history\n",
        "# tracking in the forward pass, so it can do the backpropagation using those meta information\n",
        "loss.backward()"
      ],
      "metadata": {
        "colab": {
          "base_uri": "https://localhost:8080/"
        },
        "id": "sJwcsVUCjiqh",
        "outputId": "6b79d5ff-9720-46ce-d0c1-876ca1a80f7a"
      },
      "execution_count": 9,
      "outputs": [
        {
          "output_type": "stream",
          "name": "stdout",
          "text": [
            "\n",
            " next_h torch.Size([20, 1])\n",
            "\n",
            " After activation : next_h torch.Size([20, 1])\n",
            "\n",
            " Loss:  tensor(-0.6230, requires_grad=True)\n"
          ]
        }
      ]
    },
    {
      "cell_type": "markdown",
      "source": [
        "### PyTorch Model Training"
      ],
      "metadata": {
        "id": "QywLrWC_ooyU"
      }
    },
    {
      "cell_type": "code",
      "source": [
        "import torch\n",
        "import torch.nn as nn # torch.nn.Module is the parent for PyTorch models\n",
        "import torch.nn.functional as F # for the activation function"
      ],
      "metadata": {
        "id": "tzqfUxd7oaZw"
      },
      "execution_count": 10,
      "outputs": []
    },
    {
      "cell_type": "code",
      "source": [
        "from IPython.display import Image\n",
        "Image('images/mnist.png', width = 700, height = 200)"
      ],
      "metadata": {
        "colab": {
          "base_uri": "https://localhost:8080/",
          "height": 217
        },
        "id": "G4JncEbJpMig",
        "outputId": "cacb6f1d-ff07-44df-a036-a48820f80b00"
      },
      "execution_count": 11,
      "outputs": [
        {
          "output_type": "execute_result",
          "data": {
            "image/png": "[encoded data removed]",
            "text/plain": [
              "<IPython.core.display.Image object>"
            ]
          },
          "metadata": {
            "image/png": {
              "width": 700,
              "height": 200
            }
          },
          "execution_count": 11
        }
      ]
    },
    {
      "cell_type": "markdown",
      "source": [
        "The above is a diagram of LeNet-5. It was built to read small images of handwritten numbers (the MNIST dataset), and correctly classify which digit was represented in the image.\n",
        "\n",
        "1. Layer C1 is a convolution layer, which scans the input image for features it learned during training. It outputs a map of where it saw each of its learned features in the image. This \"activation map\" is downsampled in layer S2.\n",
        "\n",
        "2. Layer C3 is another convolutional layer, this time scanning C1's activation map for combinations of features. It also puts out an activation map describing the spatial locations of these feature combinations, which is downsampled in layer S4.\n",
        "\n",
        "3. Finally, the fully-connected layers at the end, F5, F6 and OUTPUT are a classifier that takes the final activaion map, and classifies it into one of ten bins representing the 10 digits.\n",
        "\n",
        "Below we will express this simple neural network in code."
      ],
      "metadata": {
        "id": "0IPIEGPJprMD"
      }
    },
    {
      "cell_type": "code",
      "source": [
        "class LeNet(nn.Module):\n",
        "\n",
        "  def __init__(self):\n",
        "    super(LeNet, self).__init__()\n",
        "    # 1 input channel (black & white), 6 output channels, 3x3 square convolution kernel\n",
        "    self.conv1 = nn.Conv2d(1, 6, 3)\n",
        "    self.conv2 = nn.Conv2d(6, 16, 3) # input channel is 6 which was the output channel of conv1\n",
        "\n",
        "    # an affine operation : y = Wx + b\n",
        "    self.fc1 = nn.Linear(16 * 6 * 6, 120) # 6*6 from image dimension\n",
        "    self.fc2 = nn.Linear(120, 84)\n",
        "    self.fc3 = nn.Linear(84, 10) # 10 is the number of classes\n",
        "\n",
        "  def forward(self, x):\n",
        "    # Max Pooling over a (2, 2) window\n",
        "    x = F.max_pool2d(F.relu(self.conv1(x)), (2, 2))\n",
        "\n",
        "    # if the size is a square you can only specify a single number\n",
        "    x = F.max_pool2d(F.relu(self.conv2(x)), 2)\n",
        "\n",
        "    x = x.view(-1, self.num_flat_features(x))\n",
        "\n",
        "    x = F.relu(self.fc1(x))\n",
        "    x = F.relu(self.fc2(x))\n",
        "    x = self.fc3(x)\n",
        "    return w_x\n",
        "\n",
        "  def num_flat_features(self, x):\n",
        "    size = x.size()[1:] # all dimensions except the batch dimension\n",
        "    num_features = 1\n",
        "    for s in size:\n",
        "      num_features *= s\n",
        "    return num_features"
      ],
      "metadata": {
        "id": "9eBRq5LXpQ6f"
      },
      "execution_count": 12,
      "outputs": []
    },
    {
      "cell_type": "code",
      "source": [
        "# Let's instantiate this object and run a sample input through it -\n",
        "\n",
        "net = LeNet()\n",
        "print(net)"
      ],
      "metadata": {
        "colab": {
          "base_uri": "https://localhost:8080/"
        },
        "id": "cUe05KY_OndI",
        "outputId": "eef99419-a23d-45aa-b2b9-5cebae375e0a"
      },
      "execution_count": 13,
      "outputs": [
        {
          "output_type": "stream",
          "name": "stdout",
          "text": [
            "LeNet(\n",
            "  (conv1): Conv2d(1, 6, kernel_size=(3, 3), stride=(1, 1))\n",
            "  (conv2): Conv2d(6, 16, kernel_size=(3, 3), stride=(1, 1))\n",
            "  (fc1): Linear(in_features=576, out_features=120, bias=True)\n",
            "  (fc2): Linear(in_features=120, out_features=84, bias=True)\n",
            "  (fc3): Linear(in_features=84, out_features=10, bias=True)\n",
            ")\n"
          ]
        }
      ]
    },
    {
      "cell_type": "code",
      "source": [
        "input = torch.rand(1, 1, 32, 32) # 32 * 32 black and white image. [batch_dim * channel * length * width]\n",
        "print(\"\\n Image batch shape: \")\n",
        "print(input.shape)"
      ],
      "metadata": {
        "colab": {
          "base_uri": "https://localhost:8080/"
        },
        "id": "9thx2X6jPVAv",
        "outputId": "c8cce677-c734-43f8-b6f9-c206d4dd70e3"
      },
      "execution_count": 14,
      "outputs": [
        {
          "output_type": "stream",
          "name": "stdout",
          "text": [
            "\n",
            " Image batch shape: \n",
            "torch.Size([1, 1, 32, 32])\n"
          ]
        }
      ]
    },
    {
      "cell_type": "code",
      "source": [
        "output = net(input) # we don't call forward() directly\n",
        "print('\\n Raw Output: ')\n",
        "print(output.shape)"
      ],
      "metadata": {
        "colab": {
          "base_uri": "https://localhost:8080/"
        },
        "id": "kNYYrXGfQE9f",
        "outputId": "b3687928-ba0a-448f-b1c4-f2139cabe692"
      },
      "execution_count": 15,
      "outputs": [
        {
          "output_type": "stream",
          "name": "stdout",
          "text": [
            "\n",
            " Raw Output: \n",
            "torch.Size([20, 10])\n"
          ]
        }
      ]
    },
    {
      "cell_type": "markdown",
      "source": [
        "### Datasets and Dataloaders"
      ],
      "metadata": {
        "id": "iTvPrkEcT-ur"
      }
    },
    {
      "cell_type": "code",
      "source": [
        "%matplotlib inline"
      ],
      "metadata": {
        "id": "SDtrQNEHQiY2"
      },
      "execution_count": 16,
      "outputs": []
    },
    {
      "cell_type": "code",
      "source": [
        "import torch\n",
        "import torchvision\n",
        "import torchvision.transforms as transforms"
      ],
      "metadata": {
        "id": "5jj7W4Z9UKpW"
      },
      "execution_count": 17,
      "outputs": []
    },
    {
      "cell_type": "markdown",
      "source": [
        "Transform the incoming images into a PyTorch tensor.\n",
        "\n",
        "Here we specify two transformations for our input -\n",
        "\n",
        "1. transforms.ToTensor() : converts images loaded by Pillow into PyTorch tensors\n",
        "2. transforms.Normalize() : adjusts the values of the tensor so that their average is zero and their standard deviation is 0.5. Most activation functions have their stongest gradients around x = 0, so centering our data can result in speed of learning.\n",
        "\n",
        "There are many other transformations available including cropping, centering, rotationm, and reflection"
      ],
      "metadata": {
        "id": "SiqM5a4_U3O5"
      }
    },
    {
      "cell_type": "code",
      "source": [
        "# Composes several transforms together\n",
        "\n",
        "transform = transforms.Compose(\n",
        "              [transforms.ToTensor(),\n",
        "               transforms.Normalize((0.5, 0.5, 0.5), (0.5, 0.5, 0.5))]\n",
        ")"
      ],
      "metadata": {
        "id": "faDXWWeBUtgO"
      },
      "execution_count": 18,
      "outputs": []
    },
    {
      "cell_type": "markdown",
      "source": [
        "We will now create an instance of the CIFAR10 dataset. This is a set of 32x32 color image tiles representing 10 classes of objects. They are -\n",
        "* 6 type of animals (bird, cat, deer, dog, frog, horse)\n",
        "* 4 type of vehicles (airplane, automobile, ship, truck)"
      ],
      "metadata": {
        "id": "pd3vAZInX7sD"
      }
    },
    {
      "cell_type": "code",
      "source": [
        "trainset = torchvision.datasets.CIFAR10(root = './data', train = True, download = True, transform = transform)"
      ],
      "metadata": {
        "colab": {
          "base_uri": "https://localhost:8080/",
          "height": 84,
          "referenced_widgets": [
            "bc914d8c166f43bdac9a300ccca1d3f6",
            "7b460eabf8bc48009e0fa4e99a80d25e",
            "a427f057a857484b9c75b648a2adb643",
            "c20eaf99f4194b1691eb632d667510fa",
            "9b3b37c8474e40f6aecc1a510ed10956",
            "c036e3207b934b03836f7df47d9135f3",
            "da45e79f2dfd4c08bcbde96f56b581c2",
            "97ac26619bf54617ac4b28801eb0eadc",
            "8058a32c3d984fbb9fb13b58c996a945",
            "f0b97361332742d394aaf693b498bda8",
            "ccf8a54fef044604b1281b32f569139e"
          ]
        },
        "id": "k0E7yWR1XtAd",
        "outputId": "6fa070fd-dd4d-44d5-a4a8-9f8ab09640f2"
      },
      "execution_count": 19,
      "outputs": [
        {
          "output_type": "stream",
          "name": "stdout",
          "text": [
            "Downloading https://www.cs.toronto.edu/~kriz/cifar-10-python.tar.gz to ./data/cifar-10-python.tar.gz\n"
          ]
        },
        {
          "output_type": "display_data",
          "data": {
            "text/plain": [
              "  0%|          | 0/170498071 [00:00<?, ?it/s]"
            ],
            "application/vnd.jupyter.widget-view+json": {
              "version_major": 2,
              "version_minor": 0,
              "model_id": "bc914d8c166f43bdac9a300ccca1d3f6"
            }
          },
          "metadata": {}
        },
        {
          "output_type": "stream",
          "name": "stdout",
          "text": [
            "Extracting ./data/cifar-10-python.tar.gz to ./data\n"
          ]
        }
      ]
    },
    {
      "cell_type": "markdown",
      "source": [
        "Downloadable datasets like CIFAR10 etc. are subclasses of torch.utils.data.Dataset. Dataset classes in PyTorch include the downloadable datasets in TorchVision, Torchtext, and TorchAudio as well as utility dataset classes such as torchvision.datasets.ImageFolder which will read a folder of labeled images. You can also create your own subclasses of Dataset.\n",
        "\n",
        "When we instantiate our dataset, we need to do the following things -\n",
        "\n",
        "* The filesystem path to where we want the data to go\n",
        "* Whether or not we are using this set for training; most datasets will be split into training and test subsets.\n",
        "* Whether we want to download the dataset\n",
        "* The transformations we want to apply to the data\n",
        "\n",
        "Once our dataset is ready we can give it to the DataLoader"
      ],
      "metadata": {
        "id": "7Bs65NmOZ0UO"
      }
    },
    {
      "cell_type": "code",
      "source": [
        "trainloader = torch.utils.data.DataLoader(trainset, batch_size = 4, shuffle = True, num_workers = 2)"
      ],
      "metadata": {
        "id": "Nb-crMMkZaml"
      },
      "execution_count": 20,
      "outputs": []
    },
    {
      "cell_type": "code",
      "source": [
        "trainloader"
      ],
      "metadata": {
        "colab": {
          "base_uri": "https://localhost:8080/"
        },
        "id": "jq6CI8oWfkoL",
        "outputId": "9e8e2be7-305a-431d-91ee-3aca281a57b4"
      },
      "execution_count": 21,
      "outputs": [
        {
          "output_type": "execute_result",
          "data": {
            "text/plain": [
              "<torch.utils.data.dataloader.DataLoader at 0x7f98e8ccfb10>"
            ]
          },
          "metadata": {},
          "execution_count": 21
        }
      ]
    },
    {
      "cell_type": "markdown",
      "source": [
        "A Dataset subclass wraps access to the data, and is specialized to the type of data it's serving. The DataLoader knows nothing about the data, but organizes the input tensors served by the Dataset into batches with the parameters you specify.\n",
        "\n",
        "In the above example, we have asked a DataLoader to give us batches of 4 images from the trainset, randomizing their order by making shuffle = True and we have told it to spin up two workers to load data from disk.\n",
        "\n",
        "It is always a good practice to visualize the batches your DataLoader serves."
      ],
      "metadata": {
        "id": "s1xkYqaDfnsN"
      }
    },
    {
      "cell_type": "code",
      "source": [
        "import matplotlib.pyplot as plt\n",
        "import numpy as np"
      ],
      "metadata": {
        "id": "Hi9Az-dgfmnV"
      },
      "execution_count": 22,
      "outputs": []
    },
    {
      "cell_type": "code",
      "source": [
        "classes = ('plane', 'car', 'bird', 'cat', 'deer', 'dog', 'frog', 'horse', 'ship', 'truck')"
      ],
      "metadata": {
        "id": "_bUPGo5Ekqcr"
      },
      "execution_count": 23,
      "outputs": []
    },
    {
      "cell_type": "code",
      "source": [
        "def imshow(img):\n",
        "  img = img / 2 + 0.5   # unnormalize\n",
        "  npimg = img.numpy()\n",
        "  plt.imshow(np.transpose(npimg, (1, 2, 0)))\n",
        "\n",
        "# Get some random trainng images\n",
        "dataiter = iter(trainloader)\n",
        "images, labels = dataiter.next()\n",
        "\n",
        "# show images -\n",
        "imshow(torchvision.utils.make_grid(images))\n",
        "\n",
        "# print labels\n",
        "print(' '.join('%5s' % classes[labels[j]] for j in range(4)))"
      ],
      "metadata": {
        "colab": {
          "base_uri": "https://localhost:8080/",
          "height": 155
        },
        "id": "N2FhPNwUk9Hj",
        "outputId": "7cfb7a98-e52a-46d0-ff95-a25c8f6b2187"
      },
      "execution_count": 24,
      "outputs": [
        {
          "output_type": "stream",
          "name": "stdout",
          "text": [
            "  cat horse   cat   car\n"
          ]
        },
        {
          "output_type": "display_data",
          "data": {
            "text/plain": [
              "<Figure size 432x288 with 1 Axes>"
            ],
            "image/png": "[encoded data removed]"
          },
          "metadata": {
            "needs_background": "light"
          }
        }
      ]
    },
    {
      "cell_type": "markdown",
      "source": [
        "## Train the PyTorch Model\n",
        "\n",
        "End to end "
      ],
      "metadata": {
        "id": "9IgkCdWTnMDG"
      }
    },
    {
      "cell_type": "markdown",
      "source": [
        "#### Import Modules"
      ],
      "metadata": {
        "id": "6fejx6_9rFn6"
      }
    },
    {
      "cell_type": "code",
      "source": [
        "%matplotlib inline"
      ],
      "metadata": {
        "id": "TQ-ORd5DmGQD"
      },
      "execution_count": 25,
      "outputs": []
    },
    {
      "cell_type": "code",
      "source": [
        "import torch\n",
        "import torch.nn as nn\n",
        "import torch.nn.functional as F\n",
        "import torch.optim as optim\n",
        "\n",
        "import torchvision\n",
        "import torchvision.transforms as transforms\n",
        "\n",
        "import matplotlib\n",
        "import matplotlib.pyplot as plt\n",
        "import numpy as np"
      ],
      "metadata": {
        "id": "RfclFUaLnbkK"
      },
      "execution_count": 26,
      "outputs": []
    },
    {
      "cell_type": "markdown",
      "source": [
        "#### Download the training and test datasets"
      ],
      "metadata": {
        "id": "bWQgkrNNrLSV"
      }
    },
    {
      "cell_type": "code",
      "source": [
        "transform = transforms.Compose(\n",
        "    [transforms.ToTensor(),\n",
        "     transforms.Normalize((0.5, 0.5, 0.5), (0.5, 0.5, 0.5))]\n",
        ")\n",
        "\n",
        "trainset = torchvision.datasets.CIFAR10(root = './data', train = True, download = True, transform = transform)\n",
        "trainloader = torch.utils.data.DataLoader(trainset, batch_size = 4, shuffle = True, num_workers = 2)\n",
        "\n",
        "testset = torchvision.datasets.CIFAR10(root = './data', train = False, download = True, transform = transform)\n",
        "testloader = torch.utils.data.DataLoader(testset, batch_size = 4, shuffle = False, num_workers = 2)\n",
        "\n",
        "classes = ('plane', 'car', 'bird', 'cat', 'deer', 'dog', 'frog', 'horse', 'ship', 'truck')"
      ],
      "metadata": {
        "colab": {
          "base_uri": "https://localhost:8080/"
        },
        "id": "I7kH4SiyrDoz",
        "outputId": "7c91c2e3-ffb8-4230-9c1e-2b77db986039"
      },
      "execution_count": 27,
      "outputs": [
        {
          "output_type": "stream",
          "name": "stdout",
          "text": [
            "Files already downloaded and verified\n",
            "Files already downloaded and verified\n"
          ]
        }
      ]
    },
    {
      "cell_type": "code",
      "source": [
        "import matplotlib.pyplot as plt\n",
        "import numpy as np\n",
        "\n",
        "def imshow(img):\n",
        "  img = img / 2 + 0.5   # unnormalize\n",
        "  npimg = img.numpy()\n",
        "  plt.imshow(np.transpose(npimg, (1, 2, 0)))\n",
        "\n",
        "# Get some random trainng images\n",
        "dataiter = iter(trainloader)\n",
        "images, labels = dataiter.next()\n",
        "\n",
        "# show images -\n",
        "imshow(torchvision.utils.make_grid(images))\n",
        "\n",
        "# print labels\n",
        "print(' '.join('%5s' % classes[labels[j]] for j in range(4)))"
      ],
      "metadata": {
        "colab": {
          "base_uri": "https://localhost:8080/",
          "height": 155
        },
        "id": "6HRCjiAfs5gb",
        "outputId": "4ddbf18e-d72f-49fc-c763-f5a8613a1e67"
      },
      "execution_count": 28,
      "outputs": [
        {
          "output_type": "stream",
          "name": "stdout",
          "text": [
            "  cat plane truck  deer\n"
          ]
        },
        {
          "output_type": "display_data",
          "data": {
            "text/plain": [
              "<Figure size 432x288 with 1 Axes>"
            ],
            "image/png": "[encoded data removed]"
          },
          "metadata": {
            "needs_background": "light"
          }
        }
      ]
    },
    {
      "cell_type": "markdown",
      "source": [
        "The below model class is similar to LeNet model adapted for 3-color images"
      ],
      "metadata": {
        "id": "q2YvwKkt-MyL"
      }
    },
    {
      "cell_type": "code",
      "source": [
        "class Net(nn.Module):\n",
        "  def __init__(self):\n",
        "    super(Net, self).__init__()\n",
        "    self.conv1 = nn.Conv2d(3, 6, 5) # 3 channels (r, g, b), 6 output channels and 5x5 square kernel\n",
        "    self.pool = nn.MaxPool2d(2, 2)\n",
        "    self.conv2 = nn.Conv2d(6, 16, 5)\n",
        "    self.fc1 = nn.Linear(16 * 5 * 5, 120)\n",
        "    self.fc2 = nn.Linear(120, 84)\n",
        "    self.fc3 = nn.Linear(84, 10)\n",
        "\n",
        "  def forward(self, x):\n",
        "    x = self.pool(F.relu(self.conv1(x)))\n",
        "    x = self.pool(F.relu(self.conv2(x)))\n",
        "    x = x.view(-1, 16 * 5 * 5)\n",
        "    x = F.relu(self.fc1(x))\n",
        "    x = F.relu(self.fc2(x))\n",
        "    x = self.fc3(x)\n",
        "    return x\n",
        "\n",
        "net = Net()"
      ],
      "metadata": {
        "id": "1bWqD3uu9rWE"
      },
      "execution_count": 29,
      "outputs": []
    },
    {
      "cell_type": "markdown",
      "source": [
        "Now we would need a loss function and an optimizer"
      ],
      "metadata": {
        "id": "xEc3Uc89Aitw"
      }
    },
    {
      "cell_type": "code",
      "source": [
        "criterion = nn.CrossEntropyLoss()\n",
        "optimizer = optim.SGD(net.parameters(), lr = 0.001, momentum = 0.9)"
      ],
      "metadata": {
        "id": "Efiu3dHF-Lor"
      },
      "execution_count": 30,
      "outputs": []
    },
    {
      "cell_type": "code",
      "source": [
        "# loop over the train dataset 2 times\n",
        "# each pass has an inner loop that iterates over the training data\n",
        "# serving batches of transformed input images and their correct labels\n",
        "\n",
        "for epoch in range(2):\n",
        "  running_loss = 0.0\n",
        "  for i, data in enumerate(trainloader, 0):\n",
        "    # get the inputs\n",
        "    inputs, labels = data\n",
        "\n",
        "    # zero the parameter gradients. \n",
        "    # Gradients are accumulated over a batch, if we do not reset them for every batch\n",
        "    # they will keep accumulating, which will provide an incorrect gradient values, hence the learning will be wrong\n",
        "    optimizer.zero_grad()\n",
        "\n",
        "    # forward + backward + optimize\n",
        "    outputs = net(inputs) # the model predicts on this batch\n",
        "    loss = criterion(outputs, labels) # compute the loss (difference between model outputs and true labels)\n",
        "    loss.backward() # backward pass, and calculate the gradients that will direct the learning\n",
        "    optimizer.step() # optimizer performs one step learning i.e. it uses the gradient from the previous step to nudge the learning weights\n",
        "    # in the direction it thinks will reduce the loss.\n",
        "\n",
        "    # print statistics\n",
        "    running_loss += loss.item()\n",
        "    # prints every 2000 mini-batches\n",
        "    if i % 2000 == 1999:\n",
        "      print('[%d, %5d] loss: %.3f' %\n",
        "            (epoch + 1, i + 1, running_loss / 2000))\n",
        "      running_loss = 0.0\n",
        "\n",
        "print('Finished Training')"
      ],
      "metadata": {
        "colab": {
          "base_uri": "https://localhost:8080/"
        },
        "id": "Y7qKV1LzBK-T",
        "outputId": "7bfad6ab-b404-48d7-ad71-143666704c1c"
      },
      "execution_count": 31,
      "outputs": [
        {
          "output_type": "stream",
          "name": "stdout",
          "text": [
            "[1,  2000] loss: 2.165\n",
            "[1,  4000] loss: 1.839\n",
            "[1,  6000] loss: 1.661\n",
            "[1,  8000] loss: 1.559\n",
            "[1, 10000] loss: 1.517\n",
            "[1, 12000] loss: 1.466\n",
            "[2,  2000] loss: 1.408\n",
            "[2,  4000] loss: 1.368\n",
            "[2,  6000] loss: 1.350\n",
            "[2,  8000] loss: 1.314\n",
            "[2, 10000] loss: 1.310\n",
            "[2, 12000] loss: 1.274\n",
            "Finished Training\n"
          ]
        }
      ]
    },
    {
      "cell_type": "markdown",
      "source": [
        "Note the loss is monotonically descending, indicating that our model is continuing to improve its performance on the training dataset.\n",
        "\n",
        "As a final step we would check if the model is actually doing general learning, and not simply memorizing the dataset. This is called overfitting and usually indicates that the dataset is too small, or the model has more learning parameters that it needs to correctly model the dataset."
      ],
      "metadata": {
        "id": "MQewqxg7GsT1"
      }
    },
    {
      "cell_type": "code",
      "source": [
        "correct = 0\n",
        "total = 0\n",
        "\n",
        "with torch.no_grad():\n",
        "  for data in testloader:\n",
        "    images, labels = data\n",
        "    outputs = net(images)\n",
        "    _, predicted = torch.max(outputs.data, 1)\n",
        "    total += labels.size(0)\n",
        "    correct += (predicted == labels).sum().item()\n",
        "\n",
        "print('Accuracy of the network on the 10000 test images: %d %%' % (100 * correct / total))"
      ],
      "metadata": {
        "colab": {
          "base_uri": "https://localhost:8080/"
        },
        "id": "-I9y8xEgCFCD",
        "outputId": "0ef49ec5-55f5-4fa9-aba0-6edaf9aeaff9"
      },
      "execution_count": 32,
      "outputs": [
        {
          "output_type": "stream",
          "name": "stdout",
          "text": [
            "Accuracy of the network on the 10000 test images: 54 %\n"
          ]
        }
      ]
    },
    {
      "cell_type": "markdown",
      "source": [
        "Although 54 % is not state of the art result but way better than random guessing in which case it would be 10 %"
      ],
      "metadata": {
        "id": "WJgL7pUWJ202"
      }
    },
    {
      "cell_type": "markdown",
      "source": [
        "## Deployment with TorchScript\n",
        "\n",
        "Torchscript is a static, high-performance subset of Python. It does the following -\n",
        "\n",
        "1. Prototype your model with PyTorch\n",
        "2. Control flow is preserved\n",
        "3. First-class support if lists, dicts, etc."
      ],
      "metadata": {
        "id": "PQSiLStDKJW8"
      }
    },
    {
      "cell_type": "code",
      "source": [
        "# Compile the model code to a static representation\n",
        "my_script_module = torch.jit.script(net)"
      ],
      "metadata": {
        "id": "OBioW7LbJvfi"
      },
      "execution_count": 33,
      "outputs": []
    },
    {
      "cell_type": "code",
      "source": [
        "my_script_module"
      ],
      "metadata": {
        "colab": {
          "base_uri": "https://localhost:8080/"
        },
        "id": "2WfJE4fbLf95",
        "outputId": "910d69e4-abd3-492e-eaea-b377cac0e540"
      },
      "execution_count": 34,
      "outputs": [
        {
          "output_type": "execute_result",
          "data": {
            "text/plain": [
              "RecursiveScriptModule(\n",
              "  original_name=Net\n",
              "  (conv1): RecursiveScriptModule(original_name=Conv2d)\n",
              "  (pool): RecursiveScriptModule(original_name=MaxPool2d)\n",
              "  (conv2): RecursiveScriptModule(original_name=Conv2d)\n",
              "  (fc1): RecursiveScriptModule(original_name=Linear)\n",
              "  (fc2): RecursiveScriptModule(original_name=Linear)\n",
              "  (fc3): RecursiveScriptModule(original_name=Linear)\n",
              ")"
            ]
          },
          "metadata": {},
          "execution_count": 34
        }
      ]
    },
    {
      "cell_type": "code",
      "source": [
        "# Save the compiled code and model data so it can be loaded elsewhere\n",
        "# The serialized version of this model is saved which contains the entire \n",
        "# model's computation graph and learning rates.\n",
        "my_script_module.save(\"my_script_module.pt\")"
      ],
      "metadata": {
        "id": "eW5a9gG_LiLh"
      },
      "execution_count": 35,
      "outputs": []
    },
    {
      "cell_type": "markdown",
      "source": [
        "Pytorch JIT -\n",
        "\n",
        "An optimizing just-in-time compiler for PyTorch programs. They are -\n",
        "\n",
        "1. Leightweight, thread-safe interpreter\n",
        "2. Easy to write custom transformations\n",
        "3. Not just for inference. Autodiff support."
      ],
      "metadata": {
        "id": "6T061UirMvVa"
      }
    },
    {
      "cell_type": "code",
      "source": [
        "# We can load the torchscript model like this -\n",
        "\n",
        "import torch\n",
        "saved_module = torch.jit.load('my_script_module.pt')"
      ],
      "metadata": {
        "id": "cA56DC0XMXDn"
      },
      "execution_count": 36,
      "outputs": []
    },
    {
      "cell_type": "code",
      "source": [
        "input = torch.rand(1, 3, 32, 32)\n",
        "print(\"\\n Image batch shape: \")\n",
        "print(input.shape)"
      ],
      "metadata": {
        "colab": {
          "base_uri": "https://localhost:8080/"
        },
        "id": "Ejo5DiLpNZ0u",
        "outputId": "bfe35bca-86c6-4c51-9087-8da433f84224"
      },
      "execution_count": 42,
      "outputs": [
        {
          "output_type": "stream",
          "name": "stdout",
          "text": [
            "\n",
            " Image batch shape: \n",
            "torch.Size([1, 3, 32, 32])\n"
          ]
        }
      ]
    },
    {
      "cell_type": "code",
      "source": [
        "output = saved_module(input)\n",
        "print('\\n Raw Output: ')\n",
        "print(output.shape)"
      ],
      "metadata": {
        "colab": {
          "base_uri": "https://localhost:8080/"
        },
        "id": "65GunrTGNoQZ",
        "outputId": "f0c6396e-d63c-438b-e0ef-6a4771a3ff4c"
      },
      "execution_count": 43,
      "outputs": [
        {
          "output_type": "stream",
          "name": "stdout",
          "text": [
            "\n",
            " Raw Output: \n",
            "torch.Size([1, 10])\n"
          ]
        }
      ]
    },
    {
      "cell_type": "code",
      "source": [
        "output"
      ],
      "metadata": {
        "colab": {
          "base_uri": "https://localhost:8080/"
        },
        "id": "RNVpxwT3Nv9Z",
        "outputId": "f003200e-342a-4b26-d75c-8bca4dba4b23"
      },
      "execution_count": 44,
      "outputs": [
        {
          "output_type": "execute_result",
          "data": {
            "text/plain": [
              "tensor([[ 1.4590, -1.8992,  0.6977,  0.5717,  0.0432, -0.0106, -0.8352, -1.0024,\n",
              "          1.4779, -0.7724]], grad_fn=<DifferentiableGraphBackward>)"
            ]
          },
          "metadata": {},
          "execution_count": 44
        }
      ]
    },
    {
      "cell_type": "markdown",
      "source": [
        "You can also load this in PyTorch C++ runtime to remove the interpreted language dependency. \n",
        "\n",
        "\n",
        "TorchScript can be deployed using Torchserve."
      ],
      "metadata": {
        "id": "bs8GTUfvOGm0"
      }
    },
    {
      "cell_type": "code",
      "source": [
        "from IPython.display import Image\n",
        "Image('images/torch_script_c++.JPG', width = 700, height = 200)"
      ],
      "metadata": {
        "colab": {
          "base_uri": "https://localhost:8080/",
          "height": 217
        },
        "id": "5aC-PfxgNyhx",
        "outputId": "67605e51-e32b-4c48-ceb5-5540d25a2506"
      },
      "execution_count": 45,
      "outputs": [
        {
          "output_type": "execute_result",
          "data": {
            "image/jpeg": "[encoded data removed]",
            "text/plain": [
              "<IPython.core.display.Image object>"
            ]
          },
          "metadata": {
            "image/jpeg": {
              "width": 700,
              "height": 200
            }
          },
          "execution_count": 45
        }
      ]
    },
    {
      "cell_type": "code",
      "source": [],
      "metadata": {
        "id": "OdUEKN8dPF7w"
      },
      "execution_count": null,
      "outputs": []
    }
  ]
}